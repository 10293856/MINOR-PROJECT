{
 "cells": [
  {
   "cell_type": "code",
   "execution_count": 78,
   "id": "b9e0452e",
   "metadata": {},
   "outputs": [],
   "source": [
    "import pandas as pd\n",
    "import numpy as np\n",
    "import matplotlib.pyplot as plt\n",
    "from pandas import read_csv\n",
    "from numpy import dstack"
   ]
  },
  {
   "cell_type": "code",
   "execution_count": 79,
   "id": "e5b4657d",
   "metadata": {},
   "outputs": [],
   "source": [
    "# load a single file as a numpy array\n",
    "def load_file(filepath):\n",
    "    dataframe = read_csv(filepath, header=None, delim_whitespace=True)\n",
    "    return dataframe.values"
   ]
  },
  {
   "cell_type": "code",
   "execution_count": 80,
   "id": "e19e706d",
   "metadata": {},
   "outputs": [],
   "source": [
    "# load a list of files and return as a 3d numpy array\n",
    "def load_group(filenames, prefix=''):\n",
    "    loaded = list()\n",
    "    for name in filenames:\n",
    "        data = load_file(prefix + name)\n",
    "        loaded.append(data)\n",
    "    # stack group so that features are the 3rd dimension\n",
    "    loaded = dstack(loaded)\n",
    "    return loaded"
   ]
  },
  {
   "cell_type": "markdown",
   "id": "3adda5bb",
   "metadata": {},
   "source": [
    "## Accelerometer data"
   ]
  },
  {
   "cell_type": "markdown",
   "id": "d8c050fb",
   "metadata": {},
   "source": [
    "### X component"
   ]
  },
  {
   "cell_type": "code",
   "execution_count": 4,
   "id": "980a3fe3",
   "metadata": {},
   "outputs": [],
   "source": [
    "# load a dataset group, such as train or test\n",
    "def load_dataset_group(group, prefix=''):\n",
    "    filepath = prefix + group + '/Inertial Signals/'\n",
    "    print('File Path : ',filepath)\n",
    "    # load all 9 files as a single array\n",
    "    filenames = list()\n",
    "    # total acceleration\n",
    "    filenames += ['total_acc_x_'+group+'.txt']\n",
    "\n",
    "    # load input data\n",
    "    X = load_group(filenames, filepath)\n",
    "    # load class output\n",
    "    y = load_file(prefix + group + '/y_'+group+'.txt')\n",
    "    return X, y"
   ]
  },
  {
   "cell_type": "code",
   "execution_count": 5,
   "id": "d6bedb03",
   "metadata": {},
   "outputs": [
    {
     "name": "stdout",
     "output_type": "stream",
     "text": [
      "File Path :  Dataset/UCIDataset/train/Inertial Signals/\n",
      "File Path :  Dataset/UCIDataset/test/Inertial Signals/\n"
     ]
    }
   ],
   "source": [
    "# load all train\n",
    "X_train, Y_train = load_dataset_group('train', 'Dataset/UCIDataset/')\n",
    "# load all test\n",
    "X_test, Y_test = load_dataset_group('test', 'Dataset/UCIDataset/')"
   ]
  },
  {
   "cell_type": "code",
   "execution_count": 6,
   "id": "47a46a8e",
   "metadata": {},
   "outputs": [
    {
     "data": {
      "text/plain": [
       "(7352, 128, 1)"
      ]
     },
     "execution_count": 6,
     "metadata": {},
     "output_type": "execute_result"
    }
   ],
   "source": [
    "X_train.shape"
   ]
  },
  {
   "cell_type": "code",
   "execution_count": 7,
   "id": "9269bfae",
   "metadata": {},
   "outputs": [],
   "source": [
    "x_train_new = X_train.reshape(7352*128,1)"
   ]
  },
  {
   "cell_type": "code",
   "execution_count": 8,
   "id": "8e15fb83",
   "metadata": {},
   "outputs": [],
   "source": [
    "x_test_new = X_test.reshape(2947*128,1)"
   ]
  },
  {
   "cell_type": "code",
   "execution_count": 9,
   "id": "071d8a0d",
   "metadata": {},
   "outputs": [
    {
     "data": {
      "text/plain": [
       "{1: 1226, 2: 1073, 3: 986, 4: 1286, 5: 1374, 6: 1407}"
      ]
     },
     "execution_count": 9,
     "metadata": {},
     "output_type": "execute_result"
    }
   ],
   "source": [
    "unique, counts = np.unique(Y_train, return_counts=True)\n",
    "dict(zip(unique, counts))"
   ]
  },
  {
   "cell_type": "code",
   "execution_count": 10,
   "id": "b1e8d95e",
   "metadata": {},
   "outputs": [
    {
     "data": {
      "text/plain": [
       "{1: 496, 2: 471, 3: 420, 4: 491, 5: 532, 6: 537}"
      ]
     },
     "execution_count": 10,
     "metadata": {},
     "output_type": "execute_result"
    }
   ],
   "source": [
    "unique, counts = np.unique(Y_test, return_counts=True)\n",
    "dict(zip(unique, counts))"
   ]
  },
  {
   "cell_type": "code",
   "execution_count": 11,
   "id": "937ec3ab",
   "metadata": {},
   "outputs": [],
   "source": [
    "train = []"
   ]
  },
  {
   "cell_type": "code",
   "execution_count": 12,
   "id": "356a58d7",
   "metadata": {},
   "outputs": [],
   "source": [
    "for label in Y_train:\n",
    "    for i in range(0, 128):\n",
    "        train.append(label)\n",
    "        "
   ]
  },
  {
   "cell_type": "code",
   "execution_count": 13,
   "id": "2a4b6dc0",
   "metadata": {},
   "outputs": [],
   "source": [
    "arr = np.array(train)"
   ]
  },
  {
   "cell_type": "code",
   "execution_count": 14,
   "id": "8604b18c",
   "metadata": {},
   "outputs": [
    {
     "data": {
      "text/plain": [
       "{1: 156928, 2: 137344, 3: 126208, 4: 164608, 5: 175872, 6: 180096}"
      ]
     },
     "execution_count": 14,
     "metadata": {},
     "output_type": "execute_result"
    }
   ],
   "source": [
    "unique, counts = np.unique(arr, return_counts=True)\n",
    "dict(zip(unique, counts))"
   ]
  },
  {
   "cell_type": "code",
   "execution_count": 15,
   "id": "a25a5302",
   "metadata": {},
   "outputs": [
    {
     "data": {
      "text/plain": [
       "(941056, 1)"
      ]
     },
     "execution_count": 15,
     "metadata": {},
     "output_type": "execute_result"
    }
   ],
   "source": [
    "arr.shape"
   ]
  },
  {
   "cell_type": "code",
   "execution_count": 16,
   "id": "151a6e88",
   "metadata": {},
   "outputs": [],
   "source": [
    "Y_train = pd.DataFrame(arr, columns = ['activities'])"
   ]
  },
  {
   "cell_type": "code",
   "execution_count": 17,
   "id": "1b0fa148",
   "metadata": {},
   "outputs": [
    {
     "data": {
      "text/plain": [
       "(2947, 1)"
      ]
     },
     "execution_count": 17,
     "metadata": {},
     "output_type": "execute_result"
    }
   ],
   "source": [
    "Y_test.shape"
   ]
  },
  {
   "cell_type": "code",
   "execution_count": 18,
   "id": "e3edfa71",
   "metadata": {},
   "outputs": [
    {
     "data": {
      "text/plain": [
       "{1: 496, 2: 471, 3: 420, 4: 491, 5: 532, 6: 537}"
      ]
     },
     "execution_count": 18,
     "metadata": {},
     "output_type": "execute_result"
    }
   ],
   "source": [
    "unique, counts = np.unique(Y_test, return_counts=True)\n",
    "dict(zip(unique, counts))"
   ]
  },
  {
   "cell_type": "code",
   "execution_count": 19,
   "id": "03323843",
   "metadata": {},
   "outputs": [],
   "source": [
    "test = []"
   ]
  },
  {
   "cell_type": "code",
   "execution_count": 20,
   "id": "3c1a49a6",
   "metadata": {},
   "outputs": [],
   "source": [
    "for label in Y_test:\n",
    "    for i in range(0, 128):\n",
    "        test.append(label)\n",
    "        "
   ]
  },
  {
   "cell_type": "code",
   "execution_count": 21,
   "id": "67a906c4",
   "metadata": {},
   "outputs": [],
   "source": [
    "arr = np.array(test)"
   ]
  },
  {
   "cell_type": "code",
   "execution_count": 22,
   "id": "bba72e18",
   "metadata": {},
   "outputs": [
    {
     "data": {
      "text/plain": [
       "{1: 63488, 2: 60288, 3: 53760, 4: 62848, 5: 68096, 6: 68736}"
      ]
     },
     "execution_count": 22,
     "metadata": {},
     "output_type": "execute_result"
    }
   ],
   "source": [
    "unique, counts = np.unique(arr, return_counts=True)\n",
    "dict(zip(unique, counts))"
   ]
  },
  {
   "cell_type": "code",
   "execution_count": 23,
   "id": "5892a485",
   "metadata": {},
   "outputs": [
    {
     "data": {
      "text/plain": [
       "(377216, 1)"
      ]
     },
     "execution_count": 23,
     "metadata": {},
     "output_type": "execute_result"
    }
   ],
   "source": [
    "arr.shape"
   ]
  },
  {
   "cell_type": "code",
   "execution_count": 24,
   "id": "a68cac63",
   "metadata": {},
   "outputs": [],
   "source": [
    "Y_test = pd.DataFrame(arr, columns = ['activities'])"
   ]
  },
  {
   "cell_type": "code",
   "execution_count": null,
   "id": "81a69801",
   "metadata": {},
   "outputs": [],
   "source": []
  },
  {
   "cell_type": "code",
   "execution_count": null,
   "id": "33278aef",
   "metadata": {},
   "outputs": [],
   "source": []
  },
  {
   "cell_type": "markdown",
   "id": "821ce7c0",
   "metadata": {},
   "source": [
    "### Y component"
   ]
  },
  {
   "cell_type": "code",
   "execution_count": 25,
   "id": "f27a4f64",
   "metadata": {},
   "outputs": [],
   "source": [
    "# load a dataset group, such as train or test\n",
    "def load_dataset_group(group, prefix=''):\n",
    "    filepath = prefix + group + '/Inertial Signals/'\n",
    "    print('File Path : ',filepath)\n",
    "    # load all 9 files as a single array\n",
    "    filenames = list()\n",
    "    # total acceleration\n",
    "    filenames += ['total_acc_y_'+group+'.txt']\n",
    "\n",
    "    X = load_group(filenames, filepath)\n",
    "    # load class output\n",
    "    y = load_file(prefix + group + '/y_'+group+'.txt')\n",
    "    return X, y"
   ]
  },
  {
   "cell_type": "code",
   "execution_count": 26,
   "id": "9f0bf741",
   "metadata": {},
   "outputs": [
    {
     "name": "stdout",
     "output_type": "stream",
     "text": [
      "File Path :  Dataset/UCIDataset/train/Inertial Signals/\n",
      "File Path :  Dataset/UCIDataset/test/Inertial Signals/\n"
     ]
    }
   ],
   "source": [
    "# load all train\n",
    "X_train, Y_train = load_dataset_group('train', 'Dataset/UCIDataset/')\n",
    "# load all test\n",
    "X_test, Y_test = load_dataset_group('test', 'Dataset/UCIDataset/')"
   ]
  },
  {
   "cell_type": "code",
   "execution_count": 27,
   "id": "449a46c8",
   "metadata": {},
   "outputs": [
    {
     "data": {
      "text/plain": [
       "(7352, 128, 1)"
      ]
     },
     "execution_count": 27,
     "metadata": {},
     "output_type": "execute_result"
    }
   ],
   "source": [
    "X_train.shape"
   ]
  },
  {
   "cell_type": "code",
   "execution_count": 28,
   "id": "674fc79f",
   "metadata": {},
   "outputs": [],
   "source": [
    "y_train_new = X_train.reshape(7352*128,1)"
   ]
  },
  {
   "cell_type": "code",
   "execution_count": 29,
   "id": "aa7b90ce",
   "metadata": {},
   "outputs": [
    {
     "data": {
      "text/plain": [
       "(941056, 1)"
      ]
     },
     "execution_count": 29,
     "metadata": {},
     "output_type": "execute_result"
    }
   ],
   "source": [
    "y_train_new.shape"
   ]
  },
  {
   "cell_type": "code",
   "execution_count": 30,
   "id": "9d65abd3",
   "metadata": {},
   "outputs": [
    {
     "data": {
      "text/plain": [
       "(2947, 128, 1)"
      ]
     },
     "execution_count": 30,
     "metadata": {},
     "output_type": "execute_result"
    }
   ],
   "source": [
    "X_test.shape"
   ]
  },
  {
   "cell_type": "code",
   "execution_count": 31,
   "id": "2a7c3cbd",
   "metadata": {},
   "outputs": [],
   "source": [
    "y_test_new = X_test.reshape(2947*128,1)"
   ]
  },
  {
   "cell_type": "code",
   "execution_count": null,
   "id": "2c1bf8cf",
   "metadata": {},
   "outputs": [],
   "source": []
  },
  {
   "cell_type": "code",
   "execution_count": null,
   "id": "466b83c8",
   "metadata": {},
   "outputs": [],
   "source": []
  },
  {
   "cell_type": "markdown",
   "id": "dae9a549",
   "metadata": {},
   "source": [
    "### Z component"
   ]
  },
  {
   "cell_type": "code",
   "execution_count": 36,
   "id": "fddf17d8",
   "metadata": {},
   "outputs": [],
   "source": [
    "# load a dataset group, such as train or test\n",
    "def load_dataset_group(group, prefix=''):\n",
    "    filepath = prefix + group + '/Inertial Signals/'\n",
    "    print('File Path : ',filepath)\n",
    "    # load all 9 files as a single array\n",
    "    filenames = list()\n",
    "    # total acceleration\n",
    "    filenames += ['total_acc_z_'+group+'.txt']\n",
    "\n",
    "    # load input data\n",
    "    X = load_group(filenames, filepath)\n",
    "    # load class output\n",
    "    y = load_file(prefix + group + '/y_'+group+'.txt')\n",
    "    return X, y"
   ]
  },
  {
   "cell_type": "code",
   "execution_count": 37,
   "id": "ba5fe2d8",
   "metadata": {},
   "outputs": [
    {
     "name": "stdout",
     "output_type": "stream",
     "text": [
      "File Path :  Dataset/UCIDataset/train/Inertial Signals/\n",
      "File Path :  Dataset/UCIDataset/test/Inertial Signals/\n"
     ]
    }
   ],
   "source": [
    "# load all train\n",
    "X_train, Y_train = load_dataset_group('train', 'Dataset/UCIDataset/')\n",
    "# load all test\n",
    "X_test, Y_test = load_dataset_group('test', 'Dataset/UCIDataset/')"
   ]
  },
  {
   "cell_type": "code",
   "execution_count": 38,
   "id": "782be6a7",
   "metadata": {},
   "outputs": [
    {
     "data": {
      "text/plain": [
       "(7352, 128, 1)"
      ]
     },
     "execution_count": 38,
     "metadata": {},
     "output_type": "execute_result"
    }
   ],
   "source": [
    "X_train.shape"
   ]
  },
  {
   "cell_type": "code",
   "execution_count": 39,
   "id": "b63f04c2",
   "metadata": {},
   "outputs": [],
   "source": [
    "z_train_new = X_train.reshape(7352*128,1)"
   ]
  },
  {
   "cell_type": "code",
   "execution_count": 40,
   "id": "9db9d0e7",
   "metadata": {},
   "outputs": [
    {
     "data": {
      "text/plain": [
       "(941056, 1)"
      ]
     },
     "execution_count": 40,
     "metadata": {},
     "output_type": "execute_result"
    }
   ],
   "source": [
    "z_train_new.shape"
   ]
  },
  {
   "cell_type": "code",
   "execution_count": 41,
   "id": "ec153547",
   "metadata": {},
   "outputs": [
    {
     "data": {
      "text/plain": [
       "(2947, 128, 1)"
      ]
     },
     "execution_count": 41,
     "metadata": {},
     "output_type": "execute_result"
    }
   ],
   "source": [
    "X_test.shape"
   ]
  },
  {
   "cell_type": "code",
   "execution_count": 42,
   "id": "169938d5",
   "metadata": {},
   "outputs": [],
   "source": [
    "z_test_new = X_test.reshape(2947*128,1)"
   ]
  },
  {
   "cell_type": "code",
   "execution_count": null,
   "id": "bb39e287",
   "metadata": {},
   "outputs": [],
   "source": []
  },
  {
   "cell_type": "code",
   "execution_count": null,
   "id": "eb6398d3",
   "metadata": {},
   "outputs": [],
   "source": []
  },
  {
   "cell_type": "markdown",
   "id": "e6b56606",
   "metadata": {},
   "source": [
    "## Gyroscope data"
   ]
  },
  {
   "cell_type": "markdown",
   "id": "0052ce08",
   "metadata": {},
   "source": [
    "### X component"
   ]
  },
  {
   "cell_type": "code",
   "execution_count": 43,
   "id": "cf62ea47",
   "metadata": {},
   "outputs": [],
   "source": [
    "# load a dataset group, such as train or test\n",
    "def load_dataset_group(group, prefix=''):\n",
    "    filepath = prefix + group + '/Inertial Signals/'\n",
    "    print('File Path : ',filepath)\n",
    "    # load all 9 files as a single array\n",
    "    filenames = list()\n",
    "\n",
    "    # body gyroscope\n",
    "    filenames += ['body_gyro_x_'+group+'.txt']\n",
    "#     load input data\n",
    "    X = load_group(filenames, filepath)\n",
    "    # load class output\n",
    "    y = load_file(prefix + group + '/y_'+group+'.txt')\n",
    "    return X, y"
   ]
  },
  {
   "cell_type": "code",
   "execution_count": 44,
   "id": "428405a6",
   "metadata": {},
   "outputs": [
    {
     "name": "stdout",
     "output_type": "stream",
     "text": [
      "File Path :  Dataset/UCIDataset/train/Inertial Signals/\n",
      "File Path :  Dataset/UCIDataset/test/Inertial Signals/\n"
     ]
    }
   ],
   "source": [
    "# load all train\n",
    "X_train, Y_train = load_dataset_group('train', 'Dataset/UCIDataset/')\n",
    "# load all test\n",
    "X_test, Y_test = load_dataset_group('test', 'Dataset/UCIDataset/')"
   ]
  },
  {
   "cell_type": "code",
   "execution_count": 46,
   "id": "66887ff6",
   "metadata": {},
   "outputs": [
    {
     "data": {
      "text/plain": [
       "(7352, 128, 1)"
      ]
     },
     "execution_count": 46,
     "metadata": {},
     "output_type": "execute_result"
    }
   ],
   "source": [
    "X_train.shape\n"
   ]
  },
  {
   "cell_type": "code",
   "execution_count": 47,
   "id": "5290d00f",
   "metadata": {},
   "outputs": [],
   "source": [
    "Gx_train_new = X_train.reshape(7352*128,1)"
   ]
  },
  {
   "cell_type": "code",
   "execution_count": 48,
   "id": "d4a22821",
   "metadata": {},
   "outputs": [
    {
     "data": {
      "text/plain": [
       "(941056, 1)"
      ]
     },
     "execution_count": 48,
     "metadata": {},
     "output_type": "execute_result"
    }
   ],
   "source": [
    "Gx_train_new.shape"
   ]
  },
  {
   "cell_type": "code",
   "execution_count": 49,
   "id": "1847463b",
   "metadata": {},
   "outputs": [
    {
     "data": {
      "text/plain": [
       "(2947, 128, 1)"
      ]
     },
     "execution_count": 49,
     "metadata": {},
     "output_type": "execute_result"
    }
   ],
   "source": [
    "X_test.shape"
   ]
  },
  {
   "cell_type": "code",
   "execution_count": 50,
   "id": "ee80519d",
   "metadata": {},
   "outputs": [],
   "source": [
    "Gx_test_new = X_test.reshape(2947*128,1)"
   ]
  },
  {
   "cell_type": "code",
   "execution_count": null,
   "id": "dfbbe9be",
   "metadata": {},
   "outputs": [],
   "source": []
  },
  {
   "cell_type": "markdown",
   "id": "9a31e32b",
   "metadata": {},
   "source": [
    "### Y component"
   ]
  },
  {
   "cell_type": "code",
   "execution_count": 51,
   "id": "0789f6bc",
   "metadata": {},
   "outputs": [],
   "source": [
    "# load a dataset group, such as train or test\n",
    "def load_dataset_group(group, prefix=''):\n",
    "    filepath = prefix + group + '/Inertial Signals/'\n",
    "    print('File Path : ',filepath)\n",
    "    # load all 9 files as a single array\n",
    "    filenames = list()\n",
    "    # body gyroscope\n",
    "    filenames += ['body_gyro_y_'+group+'.txt']\n",
    "#     load input data\n",
    "    X = load_group(filenames, filepath)\n",
    "    # load class output\n",
    "    y = load_file(prefix + group + '/y_'+group+'.txt')\n",
    "    return X, y"
   ]
  },
  {
   "cell_type": "code",
   "execution_count": 52,
   "id": "37fc9840",
   "metadata": {},
   "outputs": [
    {
     "name": "stdout",
     "output_type": "stream",
     "text": [
      "File Path :  Dataset/UCIDataset/train/Inertial Signals/\n",
      "File Path :  Dataset/UCIDataset/test/Inertial Signals/\n"
     ]
    }
   ],
   "source": [
    "# load all train\n",
    "X_train, Y_train = load_dataset_group('train', 'Dataset/UCIDataset/')\n",
    "# load all test\n",
    "X_test, Y_test = load_dataset_group('test', 'Dataset/UCIDataset/')"
   ]
  },
  {
   "cell_type": "code",
   "execution_count": 53,
   "id": "0925e702",
   "metadata": {},
   "outputs": [
    {
     "data": {
      "text/plain": [
       "(7352, 128, 1)"
      ]
     },
     "execution_count": 53,
     "metadata": {},
     "output_type": "execute_result"
    }
   ],
   "source": [
    "X_train.shape"
   ]
  },
  {
   "cell_type": "code",
   "execution_count": 54,
   "id": "87857330",
   "metadata": {},
   "outputs": [],
   "source": [
    "Gy_train_new = X_train.reshape(7352*128,1)"
   ]
  },
  {
   "cell_type": "code",
   "execution_count": 55,
   "id": "c4749086",
   "metadata": {},
   "outputs": [
    {
     "data": {
      "text/plain": [
       "(941056, 1)"
      ]
     },
     "execution_count": 55,
     "metadata": {},
     "output_type": "execute_result"
    }
   ],
   "source": [
    "Gy_train_new.shape"
   ]
  },
  {
   "cell_type": "code",
   "execution_count": 56,
   "id": "e13c6f5b",
   "metadata": {},
   "outputs": [
    {
     "data": {
      "text/plain": [
       "(2947, 128, 1)"
      ]
     },
     "execution_count": 56,
     "metadata": {},
     "output_type": "execute_result"
    }
   ],
   "source": [
    "X_test.shape"
   ]
  },
  {
   "cell_type": "code",
   "execution_count": 57,
   "id": "4acfbe07",
   "metadata": {},
   "outputs": [],
   "source": [
    "Gy_test_new = X_test.reshape(2947*128,1)"
   ]
  },
  {
   "cell_type": "code",
   "execution_count": null,
   "id": "9f7d3084",
   "metadata": {},
   "outputs": [],
   "source": []
  },
  {
   "cell_type": "code",
   "execution_count": null,
   "id": "ad44e4bd",
   "metadata": {},
   "outputs": [],
   "source": []
  },
  {
   "cell_type": "markdown",
   "id": "d4b9774d",
   "metadata": {},
   "source": [
    "### Z component"
   ]
  },
  {
   "cell_type": "code",
   "execution_count": 58,
   "id": "76377280",
   "metadata": {},
   "outputs": [],
   "source": [
    "# load a dataset group, such as train or test\n",
    "def load_dataset_group(group, prefix=''):\n",
    "    filepath = prefix + group + '/Inertial Signals/'\n",
    "    print('File Path : ',filepath)\n",
    "    # load all 9 files as a single array\n",
    "    filenames = list()\n",
    "\n",
    "    # body gyroscope\n",
    "    filenames += ['body_gyro_z_'+group+'.txt']\n",
    "#     load input data\n",
    "    X = load_group(filenames, filepath)\n",
    "    # load class output\n",
    "    y = load_file(prefix + group + '/y_'+group+'.txt')\n",
    "    return X, y"
   ]
  },
  {
   "cell_type": "code",
   "execution_count": 59,
   "id": "0243fc7f",
   "metadata": {},
   "outputs": [
    {
     "name": "stdout",
     "output_type": "stream",
     "text": [
      "File Path :  Dataset/UCIDataset/train/Inertial Signals/\n",
      "File Path :  Dataset/UCIDataset/test/Inertial Signals/\n"
     ]
    }
   ],
   "source": [
    "# load all train\n",
    "X_train, Y_train = load_dataset_group('train', 'Dataset/UCIDataset/')\n",
    "# load all test\n",
    "X_test, Y_test = load_dataset_group('test', 'Dataset/UCIDataset/')"
   ]
  },
  {
   "cell_type": "code",
   "execution_count": 60,
   "id": "416f4d97",
   "metadata": {},
   "outputs": [
    {
     "data": {
      "text/plain": [
       "(7352, 128, 1)"
      ]
     },
     "execution_count": 60,
     "metadata": {},
     "output_type": "execute_result"
    }
   ],
   "source": [
    "X_train.shape"
   ]
  },
  {
   "cell_type": "code",
   "execution_count": 61,
   "id": "d4b530ae",
   "metadata": {},
   "outputs": [],
   "source": [
    "Gz_train_new = X_train.reshape(7352*128,1)"
   ]
  },
  {
   "cell_type": "code",
   "execution_count": 62,
   "id": "fe9deec4",
   "metadata": {},
   "outputs": [
    {
     "data": {
      "text/plain": [
       "(941056, 1)"
      ]
     },
     "execution_count": 62,
     "metadata": {},
     "output_type": "execute_result"
    }
   ],
   "source": [
    "Gz_train_new.shape"
   ]
  },
  {
   "cell_type": "code",
   "execution_count": 63,
   "id": "bfd8a173",
   "metadata": {},
   "outputs": [
    {
     "data": {
      "text/plain": [
       "(2947, 128, 1)"
      ]
     },
     "execution_count": 63,
     "metadata": {},
     "output_type": "execute_result"
    }
   ],
   "source": [
    "X_test.shape"
   ]
  },
  {
   "cell_type": "code",
   "execution_count": 64,
   "id": "f0cb8f67",
   "metadata": {},
   "outputs": [],
   "source": [
    "Gz_test_new = X_test.reshape(2947*128,1)"
   ]
  },
  {
   "cell_type": "code",
   "execution_count": null,
   "id": "57505431",
   "metadata": {},
   "outputs": [],
   "source": []
  },
  {
   "cell_type": "code",
   "execution_count": 65,
   "id": "cad5cfb7",
   "metadata": {},
   "outputs": [
    {
     "data": {
      "text/plain": [
       "(7352, 1)"
      ]
     },
     "execution_count": 65,
     "metadata": {},
     "output_type": "execute_result"
    }
   ],
   "source": [
    "Y_train.shape"
   ]
  },
  {
   "cell_type": "code",
   "execution_count": 66,
   "id": "c6fb859c",
   "metadata": {},
   "outputs": [
    {
     "data": {
      "text/plain": [
       "{1: 1226, 2: 1073, 3: 986, 4: 1286, 5: 1374, 6: 1407}"
      ]
     },
     "execution_count": 66,
     "metadata": {},
     "output_type": "execute_result"
    }
   ],
   "source": [
    "unique, counts = np.unique(Y_train, return_counts=True)\n",
    "dict(zip(unique, counts))"
   ]
  },
  {
   "cell_type": "code",
   "execution_count": 67,
   "id": "4f58a0e4",
   "metadata": {},
   "outputs": [
    {
     "data": {
      "text/plain": [
       "{1: 496, 2: 471, 3: 420, 4: 491, 5: 532, 6: 537}"
      ]
     },
     "execution_count": 67,
     "metadata": {},
     "output_type": "execute_result"
    }
   ],
   "source": [
    "unique, counts = np.unique(Y_test, return_counts=True)\n",
    "dict(zip(unique, counts))"
   ]
  },
  {
   "cell_type": "code",
   "execution_count": 68,
   "id": "d292a3c8",
   "metadata": {},
   "outputs": [],
   "source": [
    "train = []"
   ]
  },
  {
   "cell_type": "code",
   "execution_count": 72,
   "id": "1cde1362",
   "metadata": {},
   "outputs": [],
   "source": [
    "for label in Y_train:\n",
    "    for i in range(0, 128):\n",
    "        train.append(label)\n",
    "        "
   ]
  },
  {
   "cell_type": "code",
   "execution_count": 73,
   "id": "43ef2f76",
   "metadata": {},
   "outputs": [],
   "source": [
    "arr = np.array(train)"
   ]
  },
  {
   "cell_type": "code",
   "execution_count": 74,
   "id": "7d3bafd0",
   "metadata": {},
   "outputs": [
    {
     "data": {
      "text/plain": [
       "{1: 313856, 2: 274688, 3: 252416, 4: 329216, 5: 351744, 6: 360192}"
      ]
     },
     "execution_count": 74,
     "metadata": {},
     "output_type": "execute_result"
    }
   ],
   "source": [
    "unique, counts = np.unique(arr, return_counts=True)\n",
    "dict(zip(unique, counts))"
   ]
  },
  {
   "cell_type": "code",
   "execution_count": 75,
   "id": "544b4a20",
   "metadata": {},
   "outputs": [
    {
     "data": {
      "text/plain": [
       "(1882112, 1)"
      ]
     },
     "execution_count": 75,
     "metadata": {},
     "output_type": "execute_result"
    }
   ],
   "source": [
    "arr.shape"
   ]
  },
  {
   "cell_type": "code",
   "execution_count": 76,
   "id": "acf5c5fa",
   "metadata": {},
   "outputs": [],
   "source": [
    "Y_train = pd.DataFrame(arr, columns = ['activities'])"
   ]
  },
  {
   "cell_type": "code",
   "execution_count": 77,
   "id": "43f595a8",
   "metadata": {},
   "outputs": [
    {
     "data": {
      "text/html": [
       "<div>\n",
       "<style scoped>\n",
       "    .dataframe tbody tr th:only-of-type {\n",
       "        vertical-align: middle;\n",
       "    }\n",
       "\n",
       "    .dataframe tbody tr th {\n",
       "        vertical-align: top;\n",
       "    }\n",
       "\n",
       "    .dataframe thead th {\n",
       "        text-align: right;\n",
       "    }\n",
       "</style>\n",
       "<table border=\"1\" class=\"dataframe\">\n",
       "  <thead>\n",
       "    <tr style=\"text-align: right;\">\n",
       "      <th></th>\n",
       "      <th>activities</th>\n",
       "    </tr>\n",
       "  </thead>\n",
       "  <tbody>\n",
       "    <tr>\n",
       "      <th>0</th>\n",
       "      <td>5</td>\n",
       "    </tr>\n",
       "    <tr>\n",
       "      <th>1</th>\n",
       "      <td>5</td>\n",
       "    </tr>\n",
       "    <tr>\n",
       "      <th>2</th>\n",
       "      <td>5</td>\n",
       "    </tr>\n",
       "    <tr>\n",
       "      <th>3</th>\n",
       "      <td>5</td>\n",
       "    </tr>\n",
       "    <tr>\n",
       "      <th>4</th>\n",
       "      <td>5</td>\n",
       "    </tr>\n",
       "    <tr>\n",
       "      <th>...</th>\n",
       "      <td>...</td>\n",
       "    </tr>\n",
       "    <tr>\n",
       "      <th>1882107</th>\n",
       "      <td>2</td>\n",
       "    </tr>\n",
       "    <tr>\n",
       "      <th>1882108</th>\n",
       "      <td>2</td>\n",
       "    </tr>\n",
       "    <tr>\n",
       "      <th>1882109</th>\n",
       "      <td>2</td>\n",
       "    </tr>\n",
       "    <tr>\n",
       "      <th>1882110</th>\n",
       "      <td>2</td>\n",
       "    </tr>\n",
       "    <tr>\n",
       "      <th>1882111</th>\n",
       "      <td>2</td>\n",
       "    </tr>\n",
       "  </tbody>\n",
       "</table>\n",
       "<p>1882112 rows × 1 columns</p>\n",
       "</div>"
      ],
      "text/plain": [
       "         activities\n",
       "0                 5\n",
       "1                 5\n",
       "2                 5\n",
       "3                 5\n",
       "4                 5\n",
       "...             ...\n",
       "1882107           2\n",
       "1882108           2\n",
       "1882109           2\n",
       "1882110           2\n",
       "1882111           2\n",
       "\n",
       "[1882112 rows x 1 columns]"
      ]
     },
     "execution_count": 77,
     "metadata": {},
     "output_type": "execute_result"
    }
   ],
   "source": [
    "Y_train"
   ]
  },
  {
   "cell_type": "code",
   "execution_count": 92,
   "id": "d6ea09a3",
   "metadata": {},
   "outputs": [
    {
     "data": {
      "text/plain": [
       "(941056, 1)"
      ]
     },
     "execution_count": 92,
     "metadata": {},
     "output_type": "execute_result"
    }
   ],
   "source": [
    "Y_train.shape"
   ]
  },
  {
   "cell_type": "code",
   "execution_count": 93,
   "id": "21ea4988",
   "metadata": {},
   "outputs": [],
   "source": [
    "Y_train.to_csv('Y_train_new.csv', index=False)"
   ]
  },
  {
   "cell_type": "code",
   "execution_count": 94,
   "id": "50a802c9",
   "metadata": {},
   "outputs": [
    {
     "data": {
      "text/plain": [
       "(2947, 1)"
      ]
     },
     "execution_count": 94,
     "metadata": {},
     "output_type": "execute_result"
    }
   ],
   "source": [
    "Y_test.shape"
   ]
  },
  {
   "cell_type": "code",
   "execution_count": 95,
   "id": "6ff18257",
   "metadata": {},
   "outputs": [
    {
     "data": {
      "text/plain": [
       "{1: 496, 2: 471, 3: 420, 4: 491, 5: 532, 6: 537}"
      ]
     },
     "execution_count": 95,
     "metadata": {},
     "output_type": "execute_result"
    }
   ],
   "source": [
    "unique, counts = np.unique(Y_test, return_counts=True)\n",
    "dict(zip(unique, counts))"
   ]
  },
  {
   "cell_type": "code",
   "execution_count": 96,
   "id": "82b94614",
   "metadata": {},
   "outputs": [],
   "source": [
    "test = []"
   ]
  },
  {
   "cell_type": "code",
   "execution_count": 97,
   "id": "c04ec939",
   "metadata": {},
   "outputs": [],
   "source": [
    "for label in Y_test:\n",
    "    for i in range(0, 128):\n",
    "        test.append(label)\n",
    "        "
   ]
  },
  {
   "cell_type": "code",
   "execution_count": 98,
   "id": "63e35599",
   "metadata": {},
   "outputs": [],
   "source": [
    "arr = np.array(test)"
   ]
  },
  {
   "cell_type": "code",
   "execution_count": 99,
   "id": "37c31ae3",
   "metadata": {},
   "outputs": [
    {
     "data": {
      "text/plain": [
       "{1: 63488, 2: 60288, 3: 53760, 4: 62848, 5: 68096, 6: 68736}"
      ]
     },
     "execution_count": 99,
     "metadata": {},
     "output_type": "execute_result"
    }
   ],
   "source": [
    "unique, counts = np.unique(arr, return_counts=True)\n",
    "dict(zip(unique, counts))"
   ]
  },
  {
   "cell_type": "code",
   "execution_count": 100,
   "id": "e0790a90",
   "metadata": {},
   "outputs": [
    {
     "data": {
      "text/plain": [
       "(377216, 1)"
      ]
     },
     "execution_count": 100,
     "metadata": {},
     "output_type": "execute_result"
    }
   ],
   "source": [
    "arr.shape"
   ]
  },
  {
   "cell_type": "code",
   "execution_count": 101,
   "id": "cde75bb0",
   "metadata": {},
   "outputs": [],
   "source": [
    "Y_test = pd.DataFrame(arr, columns = ['activities'])"
   ]
  },
  {
   "cell_type": "code",
   "execution_count": 102,
   "id": "e7333826",
   "metadata": {},
   "outputs": [
    {
     "data": {
      "text/plain": [
       "(377216, 1)"
      ]
     },
     "execution_count": 102,
     "metadata": {},
     "output_type": "execute_result"
    }
   ],
   "source": [
    "Y_test.shape"
   ]
  },
  {
   "cell_type": "code",
   "execution_count": 103,
   "id": "cafec4a0",
   "metadata": {},
   "outputs": [],
   "source": [
    "Y_test.to_csv('Y_test_new.csv', index=False)"
   ]
  },
  {
   "cell_type": "code",
   "execution_count": null,
   "id": "9960b4d6",
   "metadata": {},
   "outputs": [],
   "source": []
  },
  {
   "cell_type": "code",
   "execution_count": null,
   "id": "a71b0756",
   "metadata": {},
   "outputs": [],
   "source": []
  },
  {
   "cell_type": "markdown",
   "id": "56e0ddc0",
   "metadata": {},
   "source": [
    "## Dataset creation"
   ]
  },
  {
   "cell_type": "code",
   "execution_count": 63,
   "id": "1daf6003",
   "metadata": {},
   "outputs": [],
   "source": [
    "Ax = pd.DataFrame(x_train_new, columns = ['Ax'])"
   ]
  },
  {
   "cell_type": "code",
   "execution_count": 64,
   "id": "96e4cf19",
   "metadata": {},
   "outputs": [],
   "source": [
    "Ay = pd.DataFrame(y_train_new, columns = ['Ay'])"
   ]
  },
  {
   "cell_type": "code",
   "execution_count": 65,
   "id": "b0e5615a",
   "metadata": {},
   "outputs": [],
   "source": [
    "Az = pd.DataFrame(z_train_new, columns = ['Az'])"
   ]
  },
  {
   "cell_type": "code",
   "execution_count": 66,
   "id": "5b365abd",
   "metadata": {},
   "outputs": [],
   "source": [
    "Gx = pd.DataFrame(Gx_train_new, columns = ['Gx'])"
   ]
  },
  {
   "cell_type": "code",
   "execution_count": 67,
   "id": "8953bce4",
   "metadata": {},
   "outputs": [],
   "source": [
    "Gy = pd.DataFrame(Gy_train_new, columns = ['Gy'])"
   ]
  },
  {
   "cell_type": "code",
   "execution_count": 68,
   "id": "c8dbf6f3",
   "metadata": {},
   "outputs": [],
   "source": [
    "Gz = pd.DataFrame(Gz_train_new, columns = ['Gz'])"
   ]
  },
  {
   "cell_type": "code",
   "execution_count": 69,
   "id": "44161ea6",
   "metadata": {},
   "outputs": [
    {
     "data": {
      "text/html": [
       "<div>\n",
       "<style scoped>\n",
       "    .dataframe tbody tr th:only-of-type {\n",
       "        vertical-align: middle;\n",
       "    }\n",
       "\n",
       "    .dataframe tbody tr th {\n",
       "        vertical-align: top;\n",
       "    }\n",
       "\n",
       "    .dataframe thead th {\n",
       "        text-align: right;\n",
       "    }\n",
       "</style>\n",
       "<table border=\"1\" class=\"dataframe\">\n",
       "  <thead>\n",
       "    <tr style=\"text-align: right;\">\n",
       "      <th></th>\n",
       "      <th>Ax</th>\n",
       "      <th>Ay</th>\n",
       "      <th>Az</th>\n",
       "      <th>Gx</th>\n",
       "      <th>Gy</th>\n",
       "      <th>Gz</th>\n",
       "    </tr>\n",
       "  </thead>\n",
       "  <tbody>\n",
       "    <tr>\n",
       "      <th>0</th>\n",
       "      <td>1.012817</td>\n",
       "      <td>-0.123217</td>\n",
       "      <td>0.102934</td>\n",
       "      <td>0.030191</td>\n",
       "      <td>0.066014</td>\n",
       "      <td>0.022859</td>\n",
       "    </tr>\n",
       "    <tr>\n",
       "      <th>1</th>\n",
       "      <td>1.022833</td>\n",
       "      <td>-0.126876</td>\n",
       "      <td>0.105687</td>\n",
       "      <td>0.043711</td>\n",
       "      <td>0.042699</td>\n",
       "      <td>0.010316</td>\n",
       "    </tr>\n",
       "    <tr>\n",
       "      <th>2</th>\n",
       "      <td>1.022028</td>\n",
       "      <td>-0.124004</td>\n",
       "      <td>0.102102</td>\n",
       "      <td>0.035688</td>\n",
       "      <td>0.074850</td>\n",
       "      <td>0.013250</td>\n",
       "    </tr>\n",
       "    <tr>\n",
       "      <th>3</th>\n",
       "      <td>1.017877</td>\n",
       "      <td>-0.124928</td>\n",
       "      <td>0.106553</td>\n",
       "      <td>0.040402</td>\n",
       "      <td>0.057320</td>\n",
       "      <td>0.017751</td>\n",
       "    </tr>\n",
       "    <tr>\n",
       "      <th>4</th>\n",
       "      <td>1.023680</td>\n",
       "      <td>-0.125767</td>\n",
       "      <td>0.102814</td>\n",
       "      <td>0.047097</td>\n",
       "      <td>0.052343</td>\n",
       "      <td>0.002553</td>\n",
       "    </tr>\n",
       "    <tr>\n",
       "      <th>...</th>\n",
       "      <td>...</td>\n",
       "      <td>...</td>\n",
       "      <td>...</td>\n",
       "      <td>...</td>\n",
       "      <td>...</td>\n",
       "      <td>...</td>\n",
       "    </tr>\n",
       "    <tr>\n",
       "      <th>941051</th>\n",
       "      <td>0.991497</td>\n",
       "      <td>-0.486260</td>\n",
       "      <td>-0.205803</td>\n",
       "      <td>0.973228</td>\n",
       "      <td>1.083094</td>\n",
       "      <td>-0.226884</td>\n",
       "    </tr>\n",
       "    <tr>\n",
       "      <th>941052</th>\n",
       "      <td>0.945067</td>\n",
       "      <td>-0.453405</td>\n",
       "      <td>-0.180733</td>\n",
       "      <td>1.004266</td>\n",
       "      <td>1.187832</td>\n",
       "      <td>-0.313591</td>\n",
       "    </tr>\n",
       "    <tr>\n",
       "      <th>941053</th>\n",
       "      <td>0.898095</td>\n",
       "      <td>-0.397775</td>\n",
       "      <td>-0.156105</td>\n",
       "      <td>1.004855</td>\n",
       "      <td>1.156645</td>\n",
       "      <td>-0.362512</td>\n",
       "    </tr>\n",
       "    <tr>\n",
       "      <th>941054</th>\n",
       "      <td>0.828372</td>\n",
       "      <td>-0.349247</td>\n",
       "      <td>-0.122798</td>\n",
       "      <td>1.015589</td>\n",
       "      <td>1.100750</td>\n",
       "      <td>-0.383989</td>\n",
       "    </tr>\n",
       "    <tr>\n",
       "      <th>941055</th>\n",
       "      <td>0.800243</td>\n",
       "      <td>-0.332372</td>\n",
       "      <td>-0.083572</td>\n",
       "      <td>1.047599</td>\n",
       "      <td>1.011324</td>\n",
       "      <td>-0.335884</td>\n",
       "    </tr>\n",
       "  </tbody>\n",
       "</table>\n",
       "<p>941056 rows × 6 columns</p>\n",
       "</div>"
      ],
      "text/plain": [
       "              Ax        Ay        Az        Gx        Gy        Gz\n",
       "0       1.012817 -0.123217  0.102934  0.030191  0.066014  0.022859\n",
       "1       1.022833 -0.126876  0.105687  0.043711  0.042699  0.010316\n",
       "2       1.022028 -0.124004  0.102102  0.035688  0.074850  0.013250\n",
       "3       1.017877 -0.124928  0.106553  0.040402  0.057320  0.017751\n",
       "4       1.023680 -0.125767  0.102814  0.047097  0.052343  0.002553\n",
       "...          ...       ...       ...       ...       ...       ...\n",
       "941051  0.991497 -0.486260 -0.205803  0.973228  1.083094 -0.226884\n",
       "941052  0.945067 -0.453405 -0.180733  1.004266  1.187832 -0.313591\n",
       "941053  0.898095 -0.397775 -0.156105  1.004855  1.156645 -0.362512\n",
       "941054  0.828372 -0.349247 -0.122798  1.015589  1.100750 -0.383989\n",
       "941055  0.800243 -0.332372 -0.083572  1.047599  1.011324 -0.335884\n",
       "\n",
       "[941056 rows x 6 columns]"
      ]
     },
     "execution_count": 69,
     "metadata": {},
     "output_type": "execute_result"
    }
   ],
   "source": [
    "X_train = pd.concat([Ax, Ay, Az, Gx, Gy, Gz], axis=1)\n",
    "X_train"
   ]
  },
  {
   "cell_type": "code",
   "execution_count": 70,
   "id": "74f26a97",
   "metadata": {},
   "outputs": [
    {
     "data": {
      "text/plain": [
       "(941056, 6)"
      ]
     },
     "execution_count": 70,
     "metadata": {},
     "output_type": "execute_result"
    }
   ],
   "source": [
    "X_train.shape"
   ]
  },
  {
   "cell_type": "code",
   "execution_count": 71,
   "id": "1d7873a7",
   "metadata": {},
   "outputs": [],
   "source": [
    "Ax = pd.DataFrame(x_test_new, columns = ['Ax'])"
   ]
  },
  {
   "cell_type": "code",
   "execution_count": 72,
   "id": "f90dba08",
   "metadata": {},
   "outputs": [],
   "source": [
    "Ay = pd.DataFrame(y_test_new, columns = ['Ay'])"
   ]
  },
  {
   "cell_type": "code",
   "execution_count": 73,
   "id": "97dd928c",
   "metadata": {},
   "outputs": [],
   "source": [
    "Az = pd.DataFrame(z_test_new, columns = ['Az'])"
   ]
  },
  {
   "cell_type": "code",
   "execution_count": 74,
   "id": "0c622163",
   "metadata": {},
   "outputs": [],
   "source": [
    "Gx = pd.DataFrame(Gx_test_new, columns = ['Gx'])"
   ]
  },
  {
   "cell_type": "code",
   "execution_count": 75,
   "id": "ebb09630",
   "metadata": {},
   "outputs": [],
   "source": [
    "Gy = pd.DataFrame(Gy_test_new, columns = ['Gy'])"
   ]
  },
  {
   "cell_type": "code",
   "execution_count": 76,
   "id": "57287faa",
   "metadata": {},
   "outputs": [],
   "source": [
    "Gz = pd.DataFrame(Gz_test_new, columns = ['Gz'])"
   ]
  },
  {
   "cell_type": "code",
   "execution_count": 77,
   "id": "f02c8c23",
   "metadata": {},
   "outputs": [
    {
     "data": {
      "text/html": [
       "<div>\n",
       "<style scoped>\n",
       "    .dataframe tbody tr th:only-of-type {\n",
       "        vertical-align: middle;\n",
       "    }\n",
       "\n",
       "    .dataframe tbody tr th {\n",
       "        vertical-align: top;\n",
       "    }\n",
       "\n",
       "    .dataframe thead th {\n",
       "        text-align: right;\n",
       "    }\n",
       "</style>\n",
       "<table border=\"1\" class=\"dataframe\">\n",
       "  <thead>\n",
       "    <tr style=\"text-align: right;\">\n",
       "      <th></th>\n",
       "      <th>Ax</th>\n",
       "      <th>Ay</th>\n",
       "      <th>Az</th>\n",
       "      <th>Gx</th>\n",
       "      <th>Gy</th>\n",
       "      <th>Gz</th>\n",
       "    </tr>\n",
       "  </thead>\n",
       "  <tbody>\n",
       "    <tr>\n",
       "      <th>0</th>\n",
       "      <td>1.041216</td>\n",
       "      <td>-0.269796</td>\n",
       "      <td>0.023780</td>\n",
       "      <td>0.437464</td>\n",
       "      <td>0.531349</td>\n",
       "      <td>0.136528</td>\n",
       "    </tr>\n",
       "    <tr>\n",
       "      <th>1</th>\n",
       "      <td>1.041803</td>\n",
       "      <td>-0.280025</td>\n",
       "      <td>0.076293</td>\n",
       "      <td>0.468264</td>\n",
       "      <td>0.721069</td>\n",
       "      <td>0.097622</td>\n",
       "    </tr>\n",
       "    <tr>\n",
       "      <th>2</th>\n",
       "      <td>1.039086</td>\n",
       "      <td>-0.292663</td>\n",
       "      <td>0.147475</td>\n",
       "      <td>0.498257</td>\n",
       "      <td>0.520328</td>\n",
       "      <td>0.083556</td>\n",
       "    </tr>\n",
       "    <tr>\n",
       "      <th>3</th>\n",
       "      <td>1.054768</td>\n",
       "      <td>-0.292384</td>\n",
       "      <td>0.139906</td>\n",
       "      <td>0.479396</td>\n",
       "      <td>0.372625</td>\n",
       "      <td>0.022861</td>\n",
       "    </tr>\n",
       "    <tr>\n",
       "      <th>4</th>\n",
       "      <td>1.028376</td>\n",
       "      <td>-0.285826</td>\n",
       "      <td>0.119934</td>\n",
       "      <td>0.389894</td>\n",
       "      <td>0.414541</td>\n",
       "      <td>-0.025939</td>\n",
       "    </tr>\n",
       "    <tr>\n",
       "      <th>...</th>\n",
       "      <td>...</td>\n",
       "      <td>...</td>\n",
       "      <td>...</td>\n",
       "      <td>...</td>\n",
       "      <td>...</td>\n",
       "      <td>...</td>\n",
       "    </tr>\n",
       "    <tr>\n",
       "      <th>377211</th>\n",
       "      <td>0.908386</td>\n",
       "      <td>-0.423054</td>\n",
       "      <td>-0.092933</td>\n",
       "      <td>0.148295</td>\n",
       "      <td>-0.015923</td>\n",
       "      <td>0.109040</td>\n",
       "    </tr>\n",
       "    <tr>\n",
       "      <th>377212</th>\n",
       "      <td>0.898984</td>\n",
       "      <td>-0.392272</td>\n",
       "      <td>-0.063138</td>\n",
       "      <td>0.143136</td>\n",
       "      <td>-0.024389</td>\n",
       "      <td>0.006547</td>\n",
       "    </tr>\n",
       "    <tr>\n",
       "      <th>377213</th>\n",
       "      <td>0.918862</td>\n",
       "      <td>-0.351680</td>\n",
       "      <td>-0.072539</td>\n",
       "      <td>0.095931</td>\n",
       "      <td>-0.021024</td>\n",
       "      <td>-0.051342</td>\n",
       "    </tr>\n",
       "    <tr>\n",
       "      <th>377214</th>\n",
       "      <td>0.949475</td>\n",
       "      <td>-0.267526</td>\n",
       "      <td>-0.050975</td>\n",
       "      <td>0.090708</td>\n",
       "      <td>-0.041893</td>\n",
       "      <td>-0.078877</td>\n",
       "    </tr>\n",
       "    <tr>\n",
       "      <th>377215</th>\n",
       "      <td>0.957835</td>\n",
       "      <td>-0.194160</td>\n",
       "      <td>-0.028925</td>\n",
       "      <td>0.055943</td>\n",
       "      <td>-0.102402</td>\n",
       "      <td>-0.046268</td>\n",
       "    </tr>\n",
       "  </tbody>\n",
       "</table>\n",
       "<p>377216 rows × 6 columns</p>\n",
       "</div>"
      ],
      "text/plain": [
       "              Ax        Ay        Az        Gx        Gy        Gz\n",
       "0       1.041216 -0.269796  0.023780  0.437464  0.531349  0.136528\n",
       "1       1.041803 -0.280025  0.076293  0.468264  0.721069  0.097622\n",
       "2       1.039086 -0.292663  0.147475  0.498257  0.520328  0.083556\n",
       "3       1.054768 -0.292384  0.139906  0.479396  0.372625  0.022861\n",
       "4       1.028376 -0.285826  0.119934  0.389894  0.414541 -0.025939\n",
       "...          ...       ...       ...       ...       ...       ...\n",
       "377211  0.908386 -0.423054 -0.092933  0.148295 -0.015923  0.109040\n",
       "377212  0.898984 -0.392272 -0.063138  0.143136 -0.024389  0.006547\n",
       "377213  0.918862 -0.351680 -0.072539  0.095931 -0.021024 -0.051342\n",
       "377214  0.949475 -0.267526 -0.050975  0.090708 -0.041893 -0.078877\n",
       "377215  0.957835 -0.194160 -0.028925  0.055943 -0.102402 -0.046268\n",
       "\n",
       "[377216 rows x 6 columns]"
      ]
     },
     "execution_count": 77,
     "metadata": {},
     "output_type": "execute_result"
    }
   ],
   "source": [
    "X_test = pd.concat([Ax, Ay, Az, Gx, Gy, Gz], axis=1)\n",
    "X_test"
   ]
  },
  {
   "cell_type": "code",
   "execution_count": null,
   "id": "42097b5f",
   "metadata": {},
   "outputs": [],
   "source": []
  },
  {
   "cell_type": "code",
   "execution_count": 78,
   "id": "d23b4dcc",
   "metadata": {},
   "outputs": [],
   "source": [
    "X_train.to_csv('X_train_withGyro.csv', index=False)"
   ]
  },
  {
   "cell_type": "code",
   "execution_count": 79,
   "id": "548abc72",
   "metadata": {},
   "outputs": [],
   "source": [
    "X_test.to_csv('X_test_withGyro.csv', index=False)"
   ]
  },
  {
   "cell_type": "code",
   "execution_count": null,
   "id": "45b4df8b",
   "metadata": {},
   "outputs": [],
   "source": []
  },
  {
   "cell_type": "code",
   "execution_count": 80,
   "id": "f331567f",
   "metadata": {},
   "outputs": [],
   "source": [
    "X_train = pd.read_csv('X_train_withGyro.csv')"
   ]
  },
  {
   "cell_type": "code",
   "execution_count": 104,
   "id": "3010aff5",
   "metadata": {},
   "outputs": [],
   "source": [
    "Y_train = pd.read_csv('Y_train_new.csv')"
   ]
  },
  {
   "cell_type": "code",
   "execution_count": 105,
   "id": "b1c17bbb",
   "metadata": {},
   "outputs": [
    {
     "data": {
      "text/html": [
       "<div>\n",
       "<style scoped>\n",
       "    .dataframe tbody tr th:only-of-type {\n",
       "        vertical-align: middle;\n",
       "    }\n",
       "\n",
       "    .dataframe tbody tr th {\n",
       "        vertical-align: top;\n",
       "    }\n",
       "\n",
       "    .dataframe thead th {\n",
       "        text-align: right;\n",
       "    }\n",
       "</style>\n",
       "<table border=\"1\" class=\"dataframe\">\n",
       "  <thead>\n",
       "    <tr style=\"text-align: right;\">\n",
       "      <th></th>\n",
       "      <th>Ax</th>\n",
       "      <th>Ay</th>\n",
       "      <th>Az</th>\n",
       "      <th>Gx</th>\n",
       "      <th>Gy</th>\n",
       "      <th>Gz</th>\n",
       "      <th>activities</th>\n",
       "    </tr>\n",
       "  </thead>\n",
       "  <tbody>\n",
       "    <tr>\n",
       "      <th>0</th>\n",
       "      <td>1.012817</td>\n",
       "      <td>-0.123217</td>\n",
       "      <td>0.102934</td>\n",
       "      <td>0.030191</td>\n",
       "      <td>0.066014</td>\n",
       "      <td>0.022859</td>\n",
       "      <td>5</td>\n",
       "    </tr>\n",
       "    <tr>\n",
       "      <th>1</th>\n",
       "      <td>1.022833</td>\n",
       "      <td>-0.126876</td>\n",
       "      <td>0.105687</td>\n",
       "      <td>0.043711</td>\n",
       "      <td>0.042699</td>\n",
       "      <td>0.010316</td>\n",
       "      <td>5</td>\n",
       "    </tr>\n",
       "    <tr>\n",
       "      <th>2</th>\n",
       "      <td>1.022028</td>\n",
       "      <td>-0.124004</td>\n",
       "      <td>0.102102</td>\n",
       "      <td>0.035688</td>\n",
       "      <td>0.074850</td>\n",
       "      <td>0.013250</td>\n",
       "      <td>5</td>\n",
       "    </tr>\n",
       "    <tr>\n",
       "      <th>3</th>\n",
       "      <td>1.017877</td>\n",
       "      <td>-0.124928</td>\n",
       "      <td>0.106553</td>\n",
       "      <td>0.040402</td>\n",
       "      <td>0.057320</td>\n",
       "      <td>0.017751</td>\n",
       "      <td>5</td>\n",
       "    </tr>\n",
       "    <tr>\n",
       "      <th>4</th>\n",
       "      <td>1.023680</td>\n",
       "      <td>-0.125767</td>\n",
       "      <td>0.102814</td>\n",
       "      <td>0.047097</td>\n",
       "      <td>0.052343</td>\n",
       "      <td>0.002553</td>\n",
       "      <td>5</td>\n",
       "    </tr>\n",
       "    <tr>\n",
       "      <th>...</th>\n",
       "      <td>...</td>\n",
       "      <td>...</td>\n",
       "      <td>...</td>\n",
       "      <td>...</td>\n",
       "      <td>...</td>\n",
       "      <td>...</td>\n",
       "      <td>...</td>\n",
       "    </tr>\n",
       "    <tr>\n",
       "      <th>941051</th>\n",
       "      <td>0.991497</td>\n",
       "      <td>-0.486260</td>\n",
       "      <td>-0.205803</td>\n",
       "      <td>0.973228</td>\n",
       "      <td>1.083094</td>\n",
       "      <td>-0.226884</td>\n",
       "      <td>2</td>\n",
       "    </tr>\n",
       "    <tr>\n",
       "      <th>941052</th>\n",
       "      <td>0.945067</td>\n",
       "      <td>-0.453405</td>\n",
       "      <td>-0.180733</td>\n",
       "      <td>1.004266</td>\n",
       "      <td>1.187832</td>\n",
       "      <td>-0.313591</td>\n",
       "      <td>2</td>\n",
       "    </tr>\n",
       "    <tr>\n",
       "      <th>941053</th>\n",
       "      <td>0.898095</td>\n",
       "      <td>-0.397775</td>\n",
       "      <td>-0.156105</td>\n",
       "      <td>1.004855</td>\n",
       "      <td>1.156645</td>\n",
       "      <td>-0.362512</td>\n",
       "      <td>2</td>\n",
       "    </tr>\n",
       "    <tr>\n",
       "      <th>941054</th>\n",
       "      <td>0.828372</td>\n",
       "      <td>-0.349247</td>\n",
       "      <td>-0.122798</td>\n",
       "      <td>1.015589</td>\n",
       "      <td>1.100750</td>\n",
       "      <td>-0.383989</td>\n",
       "      <td>2</td>\n",
       "    </tr>\n",
       "    <tr>\n",
       "      <th>941055</th>\n",
       "      <td>0.800243</td>\n",
       "      <td>-0.332372</td>\n",
       "      <td>-0.083572</td>\n",
       "      <td>1.047599</td>\n",
       "      <td>1.011324</td>\n",
       "      <td>-0.335884</td>\n",
       "      <td>2</td>\n",
       "    </tr>\n",
       "  </tbody>\n",
       "</table>\n",
       "<p>941056 rows × 7 columns</p>\n",
       "</div>"
      ],
      "text/plain": [
       "              Ax        Ay        Az        Gx        Gy        Gz  activities\n",
       "0       1.012817 -0.123217  0.102934  0.030191  0.066014  0.022859           5\n",
       "1       1.022833 -0.126876  0.105687  0.043711  0.042699  0.010316           5\n",
       "2       1.022028 -0.124004  0.102102  0.035688  0.074850  0.013250           5\n",
       "3       1.017877 -0.124928  0.106553  0.040402  0.057320  0.017751           5\n",
       "4       1.023680 -0.125767  0.102814  0.047097  0.052343  0.002553           5\n",
       "...          ...       ...       ...       ...       ...       ...         ...\n",
       "941051  0.991497 -0.486260 -0.205803  0.973228  1.083094 -0.226884           2\n",
       "941052  0.945067 -0.453405 -0.180733  1.004266  1.187832 -0.313591           2\n",
       "941053  0.898095 -0.397775 -0.156105  1.004855  1.156645 -0.362512           2\n",
       "941054  0.828372 -0.349247 -0.122798  1.015589  1.100750 -0.383989           2\n",
       "941055  0.800243 -0.332372 -0.083572  1.047599  1.011324 -0.335884           2\n",
       "\n",
       "[941056 rows x 7 columns]"
      ]
     },
     "execution_count": 105,
     "metadata": {},
     "output_type": "execute_result"
    }
   ],
   "source": [
    "train = pd.concat([X_train, Y_train], axis=1)\n",
    "train"
   ]
  },
  {
   "cell_type": "code",
   "execution_count": 106,
   "id": "a7154b41",
   "metadata": {},
   "outputs": [],
   "source": [
    "train.to_csv('trainData_withGyro.csv', index=False)"
   ]
  },
  {
   "cell_type": "code",
   "execution_count": 107,
   "id": "3b72792c",
   "metadata": {},
   "outputs": [],
   "source": [
    "X_test = pd.read_csv('X_test_withGyro.csv')"
   ]
  },
  {
   "cell_type": "code",
   "execution_count": 108,
   "id": "9affcb02",
   "metadata": {},
   "outputs": [],
   "source": [
    "Y_test = pd.read_csv('Y_test_new.csv')"
   ]
  },
  {
   "cell_type": "code",
   "execution_count": 109,
   "id": "816aa937",
   "metadata": {},
   "outputs": [
    {
     "data": {
      "text/html": [
       "<div>\n",
       "<style scoped>\n",
       "    .dataframe tbody tr th:only-of-type {\n",
       "        vertical-align: middle;\n",
       "    }\n",
       "\n",
       "    .dataframe tbody tr th {\n",
       "        vertical-align: top;\n",
       "    }\n",
       "\n",
       "    .dataframe thead th {\n",
       "        text-align: right;\n",
       "    }\n",
       "</style>\n",
       "<table border=\"1\" class=\"dataframe\">\n",
       "  <thead>\n",
       "    <tr style=\"text-align: right;\">\n",
       "      <th></th>\n",
       "      <th>Ax</th>\n",
       "      <th>Ay</th>\n",
       "      <th>Az</th>\n",
       "      <th>Gx</th>\n",
       "      <th>Gy</th>\n",
       "      <th>Gz</th>\n",
       "      <th>activities</th>\n",
       "    </tr>\n",
       "  </thead>\n",
       "  <tbody>\n",
       "    <tr>\n",
       "      <th>0</th>\n",
       "      <td>1.041216</td>\n",
       "      <td>-0.269796</td>\n",
       "      <td>0.023780</td>\n",
       "      <td>0.437464</td>\n",
       "      <td>0.531349</td>\n",
       "      <td>0.136528</td>\n",
       "      <td>5</td>\n",
       "    </tr>\n",
       "    <tr>\n",
       "      <th>1</th>\n",
       "      <td>1.041803</td>\n",
       "      <td>-0.280025</td>\n",
       "      <td>0.076293</td>\n",
       "      <td>0.468264</td>\n",
       "      <td>0.721069</td>\n",
       "      <td>0.097622</td>\n",
       "      <td>5</td>\n",
       "    </tr>\n",
       "    <tr>\n",
       "      <th>2</th>\n",
       "      <td>1.039086</td>\n",
       "      <td>-0.292663</td>\n",
       "      <td>0.147475</td>\n",
       "      <td>0.498257</td>\n",
       "      <td>0.520328</td>\n",
       "      <td>0.083556</td>\n",
       "      <td>5</td>\n",
       "    </tr>\n",
       "    <tr>\n",
       "      <th>3</th>\n",
       "      <td>1.054768</td>\n",
       "      <td>-0.292384</td>\n",
       "      <td>0.139906</td>\n",
       "      <td>0.479396</td>\n",
       "      <td>0.372625</td>\n",
       "      <td>0.022861</td>\n",
       "      <td>5</td>\n",
       "    </tr>\n",
       "    <tr>\n",
       "      <th>4</th>\n",
       "      <td>1.028376</td>\n",
       "      <td>-0.285826</td>\n",
       "      <td>0.119934</td>\n",
       "      <td>0.389894</td>\n",
       "      <td>0.414541</td>\n",
       "      <td>-0.025939</td>\n",
       "      <td>5</td>\n",
       "    </tr>\n",
       "    <tr>\n",
       "      <th>...</th>\n",
       "      <td>...</td>\n",
       "      <td>...</td>\n",
       "      <td>...</td>\n",
       "      <td>...</td>\n",
       "      <td>...</td>\n",
       "      <td>...</td>\n",
       "      <td>...</td>\n",
       "    </tr>\n",
       "    <tr>\n",
       "      <th>377211</th>\n",
       "      <td>0.908386</td>\n",
       "      <td>-0.423054</td>\n",
       "      <td>-0.092933</td>\n",
       "      <td>0.148295</td>\n",
       "      <td>-0.015923</td>\n",
       "      <td>0.109040</td>\n",
       "      <td>2</td>\n",
       "    </tr>\n",
       "    <tr>\n",
       "      <th>377212</th>\n",
       "      <td>0.898984</td>\n",
       "      <td>-0.392272</td>\n",
       "      <td>-0.063138</td>\n",
       "      <td>0.143136</td>\n",
       "      <td>-0.024389</td>\n",
       "      <td>0.006547</td>\n",
       "      <td>2</td>\n",
       "    </tr>\n",
       "    <tr>\n",
       "      <th>377213</th>\n",
       "      <td>0.918862</td>\n",
       "      <td>-0.351680</td>\n",
       "      <td>-0.072539</td>\n",
       "      <td>0.095931</td>\n",
       "      <td>-0.021024</td>\n",
       "      <td>-0.051342</td>\n",
       "      <td>2</td>\n",
       "    </tr>\n",
       "    <tr>\n",
       "      <th>377214</th>\n",
       "      <td>0.949475</td>\n",
       "      <td>-0.267526</td>\n",
       "      <td>-0.050975</td>\n",
       "      <td>0.090708</td>\n",
       "      <td>-0.041893</td>\n",
       "      <td>-0.078877</td>\n",
       "      <td>2</td>\n",
       "    </tr>\n",
       "    <tr>\n",
       "      <th>377215</th>\n",
       "      <td>0.957835</td>\n",
       "      <td>-0.194160</td>\n",
       "      <td>-0.028925</td>\n",
       "      <td>0.055943</td>\n",
       "      <td>-0.102402</td>\n",
       "      <td>-0.046268</td>\n",
       "      <td>2</td>\n",
       "    </tr>\n",
       "  </tbody>\n",
       "</table>\n",
       "<p>377216 rows × 7 columns</p>\n",
       "</div>"
      ],
      "text/plain": [
       "              Ax        Ay        Az        Gx        Gy        Gz  activities\n",
       "0       1.041216 -0.269796  0.023780  0.437464  0.531349  0.136528           5\n",
       "1       1.041803 -0.280025  0.076293  0.468264  0.721069  0.097622           5\n",
       "2       1.039086 -0.292663  0.147475  0.498257  0.520328  0.083556           5\n",
       "3       1.054768 -0.292384  0.139906  0.479396  0.372625  0.022861           5\n",
       "4       1.028376 -0.285826  0.119934  0.389894  0.414541 -0.025939           5\n",
       "...          ...       ...       ...       ...       ...       ...         ...\n",
       "377211  0.908386 -0.423054 -0.092933  0.148295 -0.015923  0.109040           2\n",
       "377212  0.898984 -0.392272 -0.063138  0.143136 -0.024389  0.006547           2\n",
       "377213  0.918862 -0.351680 -0.072539  0.095931 -0.021024 -0.051342           2\n",
       "377214  0.949475 -0.267526 -0.050975  0.090708 -0.041893 -0.078877           2\n",
       "377215  0.957835 -0.194160 -0.028925  0.055943 -0.102402 -0.046268           2\n",
       "\n",
       "[377216 rows x 7 columns]"
      ]
     },
     "execution_count": 109,
     "metadata": {},
     "output_type": "execute_result"
    }
   ],
   "source": [
    "test = pd.concat([X_test, Y_test], axis=1)\n",
    "test"
   ]
  },
  {
   "cell_type": "code",
   "execution_count": 110,
   "id": "2a674c44",
   "metadata": {},
   "outputs": [],
   "source": [
    "test.to_csv('testData_withGyro.csv', index=False)"
   ]
  },
  {
   "cell_type": "code",
   "execution_count": null,
   "id": "37f5b710",
   "metadata": {},
   "outputs": [],
   "source": []
  },
  {
   "cell_type": "code",
   "execution_count": null,
   "id": "7b2ffee4",
   "metadata": {},
   "outputs": [],
   "source": []
  },
  {
   "cell_type": "code",
   "execution_count": null,
   "id": "39e5fc98",
   "metadata": {},
   "outputs": [],
   "source": []
  },
  {
   "cell_type": "markdown",
   "id": "21d8bc21",
   "metadata": {},
   "source": [
    "## Model Building"
   ]
  },
  {
   "cell_type": "code",
   "execution_count": 193,
   "id": "bfc3f9dd",
   "metadata": {},
   "outputs": [
    {
     "name": "stdout",
     "output_type": "stream",
     "text": [
      "2.5.0\n"
     ]
    }
   ],
   "source": [
    "import tensorflow as tf\n",
    "from tensorflow.keras import Sequential\n",
    "from tensorflow.keras.layers import Flatten, Dense, Dropout, BatchNormalization\n",
    "from tensorflow.keras.layers import Conv2D, MaxPool2D\n",
    "from tensorflow.keras.optimizers import Adam\n",
    "print(tf.__version__)"
   ]
  },
  {
   "cell_type": "code",
   "execution_count": 194,
   "id": "aeb1bdba",
   "metadata": {},
   "outputs": [],
   "source": [
    "import pandas as pd\n",
    "import numpy as np\n",
    "import scipy.stats as stats\n",
    "from sklearn.preprocessing import MinMaxScaler\n",
    "import matplotlib.pyplot as plt\n",
    "from sklearn.model_selection import train_test_split\n",
    "from sklearn.preprocessing import StandardScaler, LabelEncoder"
   ]
  },
  {
   "cell_type": "code",
   "execution_count": 196,
   "id": "4c27fc65",
   "metadata": {},
   "outputs": [
    {
     "data": {
      "text/html": [
       "<div>\n",
       "<style scoped>\n",
       "    .dataframe tbody tr th:only-of-type {\n",
       "        vertical-align: middle;\n",
       "    }\n",
       "\n",
       "    .dataframe tbody tr th {\n",
       "        vertical-align: top;\n",
       "    }\n",
       "\n",
       "    .dataframe thead th {\n",
       "        text-align: right;\n",
       "    }\n",
       "</style>\n",
       "<table border=\"1\" class=\"dataframe\">\n",
       "  <thead>\n",
       "    <tr style=\"text-align: right;\">\n",
       "      <th></th>\n",
       "      <th>Ax</th>\n",
       "      <th>Ay</th>\n",
       "      <th>Az</th>\n",
       "      <th>Gx</th>\n",
       "      <th>Gy</th>\n",
       "      <th>Gz</th>\n",
       "      <th>activities</th>\n",
       "    </tr>\n",
       "  </thead>\n",
       "  <tbody>\n",
       "    <tr>\n",
       "      <th>0</th>\n",
       "      <td>1.012817</td>\n",
       "      <td>-0.123217</td>\n",
       "      <td>0.102934</td>\n",
       "      <td>0.030191</td>\n",
       "      <td>0.066014</td>\n",
       "      <td>0.022859</td>\n",
       "      <td>5</td>\n",
       "    </tr>\n",
       "    <tr>\n",
       "      <th>1</th>\n",
       "      <td>1.022833</td>\n",
       "      <td>-0.126876</td>\n",
       "      <td>0.105687</td>\n",
       "      <td>0.043711</td>\n",
       "      <td>0.042699</td>\n",
       "      <td>0.010316</td>\n",
       "      <td>5</td>\n",
       "    </tr>\n",
       "    <tr>\n",
       "      <th>2</th>\n",
       "      <td>1.022028</td>\n",
       "      <td>-0.124004</td>\n",
       "      <td>0.102102</td>\n",
       "      <td>0.035688</td>\n",
       "      <td>0.074850</td>\n",
       "      <td>0.013250</td>\n",
       "      <td>5</td>\n",
       "    </tr>\n",
       "    <tr>\n",
       "      <th>3</th>\n",
       "      <td>1.017877</td>\n",
       "      <td>-0.124928</td>\n",
       "      <td>0.106553</td>\n",
       "      <td>0.040402</td>\n",
       "      <td>0.057320</td>\n",
       "      <td>0.017751</td>\n",
       "      <td>5</td>\n",
       "    </tr>\n",
       "    <tr>\n",
       "      <th>4</th>\n",
       "      <td>1.023680</td>\n",
       "      <td>-0.125767</td>\n",
       "      <td>0.102814</td>\n",
       "      <td>0.047097</td>\n",
       "      <td>0.052343</td>\n",
       "      <td>0.002553</td>\n",
       "      <td>5</td>\n",
       "    </tr>\n",
       "    <tr>\n",
       "      <th>...</th>\n",
       "      <td>...</td>\n",
       "      <td>...</td>\n",
       "      <td>...</td>\n",
       "      <td>...</td>\n",
       "      <td>...</td>\n",
       "      <td>...</td>\n",
       "      <td>...</td>\n",
       "    </tr>\n",
       "    <tr>\n",
       "      <th>1318267</th>\n",
       "      <td>0.908386</td>\n",
       "      <td>-0.423054</td>\n",
       "      <td>-0.092933</td>\n",
       "      <td>0.148295</td>\n",
       "      <td>-0.015923</td>\n",
       "      <td>0.109040</td>\n",
       "      <td>2</td>\n",
       "    </tr>\n",
       "    <tr>\n",
       "      <th>1318268</th>\n",
       "      <td>0.898984</td>\n",
       "      <td>-0.392272</td>\n",
       "      <td>-0.063138</td>\n",
       "      <td>0.143136</td>\n",
       "      <td>-0.024389</td>\n",
       "      <td>0.006547</td>\n",
       "      <td>2</td>\n",
       "    </tr>\n",
       "    <tr>\n",
       "      <th>1318269</th>\n",
       "      <td>0.918862</td>\n",
       "      <td>-0.351680</td>\n",
       "      <td>-0.072539</td>\n",
       "      <td>0.095931</td>\n",
       "      <td>-0.021024</td>\n",
       "      <td>-0.051342</td>\n",
       "      <td>2</td>\n",
       "    </tr>\n",
       "    <tr>\n",
       "      <th>1318270</th>\n",
       "      <td>0.949475</td>\n",
       "      <td>-0.267526</td>\n",
       "      <td>-0.050975</td>\n",
       "      <td>0.090708</td>\n",
       "      <td>-0.041893</td>\n",
       "      <td>-0.078877</td>\n",
       "      <td>2</td>\n",
       "    </tr>\n",
       "    <tr>\n",
       "      <th>1318271</th>\n",
       "      <td>0.957835</td>\n",
       "      <td>-0.194160</td>\n",
       "      <td>-0.028925</td>\n",
       "      <td>0.055943</td>\n",
       "      <td>-0.102402</td>\n",
       "      <td>-0.046268</td>\n",
       "      <td>2</td>\n",
       "    </tr>\n",
       "  </tbody>\n",
       "</table>\n",
       "<p>1318272 rows × 7 columns</p>\n",
       "</div>"
      ],
      "text/plain": [
       "               Ax        Ay        Az        Gx        Gy        Gz  \\\n",
       "0        1.012817 -0.123217  0.102934  0.030191  0.066014  0.022859   \n",
       "1        1.022833 -0.126876  0.105687  0.043711  0.042699  0.010316   \n",
       "2        1.022028 -0.124004  0.102102  0.035688  0.074850  0.013250   \n",
       "3        1.017877 -0.124928  0.106553  0.040402  0.057320  0.017751   \n",
       "4        1.023680 -0.125767  0.102814  0.047097  0.052343  0.002553   \n",
       "...           ...       ...       ...       ...       ...       ...   \n",
       "1318267  0.908386 -0.423054 -0.092933  0.148295 -0.015923  0.109040   \n",
       "1318268  0.898984 -0.392272 -0.063138  0.143136 -0.024389  0.006547   \n",
       "1318269  0.918862 -0.351680 -0.072539  0.095931 -0.021024 -0.051342   \n",
       "1318270  0.949475 -0.267526 -0.050975  0.090708 -0.041893 -0.078877   \n",
       "1318271  0.957835 -0.194160 -0.028925  0.055943 -0.102402 -0.046268   \n",
       "\n",
       "         activities  \n",
       "0                 5  \n",
       "1                 5  \n",
       "2                 5  \n",
       "3                 5  \n",
       "4                 5  \n",
       "...             ...  \n",
       "1318267           2  \n",
       "1318268           2  \n",
       "1318269           2  \n",
       "1318270           2  \n",
       "1318271           2  \n",
       "\n",
       "[1318272 rows x 7 columns]"
      ]
     },
     "execution_count": 196,
     "metadata": {},
     "output_type": "execute_result"
    }
   ],
   "source": [
    "data = pd.read_csv('Full_data_withGyro.csv')\n",
    "data"
   ]
  },
  {
   "cell_type": "code",
   "execution_count": 197,
   "id": "b1161e8e",
   "metadata": {},
   "outputs": [
    {
     "data": {
      "text/plain": [
       "(1318272, 7)"
      ]
     },
     "execution_count": 197,
     "metadata": {},
     "output_type": "execute_result"
    }
   ],
   "source": [
    "data.shape"
   ]
  },
  {
   "cell_type": "code",
   "execution_count": 198,
   "id": "d300d0e0",
   "metadata": {},
   "outputs": [
    {
     "name": "stdout",
     "output_type": "stream",
     "text": [
      "<class 'pandas.core.frame.DataFrame'>\n",
      "RangeIndex: 1318272 entries, 0 to 1318271\n",
      "Data columns (total 7 columns):\n",
      " #   Column      Non-Null Count    Dtype  \n",
      "---  ------      --------------    -----  \n",
      " 0   Ax          1318272 non-null  float64\n",
      " 1   Ay          1318272 non-null  float64\n",
      " 2   Az          1318272 non-null  float64\n",
      " 3   Gx          1318272 non-null  float64\n",
      " 4   Gy          1318272 non-null  float64\n",
      " 5   Gz          1318272 non-null  float64\n",
      " 6   activities  1318272 non-null  int64  \n",
      "dtypes: float64(6), int64(1)\n",
      "memory usage: 70.4 MB\n"
     ]
    }
   ],
   "source": [
    "data.info()"
   ]
  },
  {
   "cell_type": "code",
   "execution_count": 199,
   "id": "dd820fdf",
   "metadata": {},
   "outputs": [
    {
     "data": {
      "text/plain": [
       "Ax            0\n",
       "Ay            0\n",
       "Az            0\n",
       "Gx            0\n",
       "Gy            0\n",
       "Gz            0\n",
       "activities    0\n",
       "dtype: int64"
      ]
     },
     "execution_count": 199,
     "metadata": {},
     "output_type": "execute_result"
    }
   ],
   "source": [
    "data.isnull().sum()"
   ]
  },
  {
   "cell_type": "code",
   "execution_count": 200,
   "id": "aa571438",
   "metadata": {},
   "outputs": [
    {
     "data": {
      "text/plain": [
       "6    248832\n",
       "5    243968\n",
       "4    227456\n",
       "1    220416\n",
       "2    197632\n",
       "3    179968\n",
       "Name: activities, dtype: int64"
      ]
     },
     "execution_count": 200,
     "metadata": {},
     "output_type": "execute_result"
    }
   ],
   "source": [
    "data['activities'].value_counts()"
   ]
  },
  {
   "cell_type": "code",
   "execution_count": 201,
   "id": "fc0630fd",
   "metadata": {},
   "outputs": [],
   "source": [
    "data['activities'] -= 1"
   ]
  },
  {
   "cell_type": "code",
   "execution_count": 202,
   "id": "b87ecde1",
   "metadata": {},
   "outputs": [
    {
     "data": {
      "text/plain": [
       "Index(['Ax', 'Ay', 'Az', 'Gx', 'Gy', 'Gz', 'activities'], dtype='object')"
      ]
     },
     "execution_count": 202,
     "metadata": {},
     "output_type": "execute_result"
    }
   ],
   "source": [
    "data.columns"
   ]
  },
  {
   "cell_type": "code",
   "execution_count": 203,
   "id": "84dd0b2f",
   "metadata": {},
   "outputs": [],
   "source": [
    "X_ = data[['Ax', 'Ay', 'Az', 'Gx', 'Gy', 'Gz']]\n",
    "y_ = data['activities']"
   ]
  },
  {
   "cell_type": "code",
   "execution_count": 204,
   "id": "bc566eb7",
   "metadata": {},
   "outputs": [
    {
     "data": {
      "text/html": [
       "<div>\n",
       "<style scoped>\n",
       "    .dataframe tbody tr th:only-of-type {\n",
       "        vertical-align: middle;\n",
       "    }\n",
       "\n",
       "    .dataframe tbody tr th {\n",
       "        vertical-align: top;\n",
       "    }\n",
       "\n",
       "    .dataframe thead th {\n",
       "        text-align: right;\n",
       "    }\n",
       "</style>\n",
       "<table border=\"1\" class=\"dataframe\">\n",
       "  <thead>\n",
       "    <tr style=\"text-align: right;\">\n",
       "      <th></th>\n",
       "      <th>Ax</th>\n",
       "      <th>Ay</th>\n",
       "      <th>Az</th>\n",
       "      <th>Gx</th>\n",
       "      <th>Gy</th>\n",
       "      <th>Gz</th>\n",
       "      <th>label</th>\n",
       "    </tr>\n",
       "  </thead>\n",
       "  <tbody>\n",
       "    <tr>\n",
       "      <th>0</th>\n",
       "      <td>0.496339</td>\n",
       "      <td>-0.364949</td>\n",
       "      <td>0.052588</td>\n",
       "      <td>0.083186</td>\n",
       "      <td>0.178647</td>\n",
       "      <td>0.086483</td>\n",
       "      <td>4</td>\n",
       "    </tr>\n",
       "    <tr>\n",
       "      <th>1</th>\n",
       "      <td>0.520650</td>\n",
       "      <td>-0.374159</td>\n",
       "      <td>0.060585</td>\n",
       "      <td>0.116655</td>\n",
       "      <td>0.115716</td>\n",
       "      <td>0.037092</td>\n",
       "      <td>4</td>\n",
       "    </tr>\n",
       "    <tr>\n",
       "      <th>2</th>\n",
       "      <td>0.518696</td>\n",
       "      <td>-0.366930</td>\n",
       "      <td>0.050172</td>\n",
       "      <td>0.096794</td>\n",
       "      <td>0.202499</td>\n",
       "      <td>0.048646</td>\n",
       "      <td>4</td>\n",
       "    </tr>\n",
       "    <tr>\n",
       "      <th>3</th>\n",
       "      <td>0.508621</td>\n",
       "      <td>-0.369256</td>\n",
       "      <td>0.063099</td>\n",
       "      <td>0.108464</td>\n",
       "      <td>0.155181</td>\n",
       "      <td>0.066372</td>\n",
       "      <td>4</td>\n",
       "    </tr>\n",
       "    <tr>\n",
       "      <th>4</th>\n",
       "      <td>0.522706</td>\n",
       "      <td>-0.371367</td>\n",
       "      <td>0.052237</td>\n",
       "      <td>0.125037</td>\n",
       "      <td>0.141747</td>\n",
       "      <td>0.006526</td>\n",
       "      <td>4</td>\n",
       "    </tr>\n",
       "    <tr>\n",
       "      <th>...</th>\n",
       "      <td>...</td>\n",
       "      <td>...</td>\n",
       "      <td>...</td>\n",
       "      <td>...</td>\n",
       "      <td>...</td>\n",
       "      <td>...</td>\n",
       "      <td>...</td>\n",
       "    </tr>\n",
       "    <tr>\n",
       "      <th>1318267</th>\n",
       "      <td>0.242859</td>\n",
       "      <td>-1.119667</td>\n",
       "      <td>-0.516373</td>\n",
       "      <td>0.375564</td>\n",
       "      <td>-0.042517</td>\n",
       "      <td>0.425845</td>\n",
       "      <td>1</td>\n",
       "    </tr>\n",
       "    <tr>\n",
       "      <th>1318268</th>\n",
       "      <td>0.220040</td>\n",
       "      <td>-1.042184</td>\n",
       "      <td>-0.429824</td>\n",
       "      <td>0.362793</td>\n",
       "      <td>-0.065368</td>\n",
       "      <td>0.022252</td>\n",
       "      <td>1</td>\n",
       "    </tr>\n",
       "    <tr>\n",
       "      <th>1318269</th>\n",
       "      <td>0.268286</td>\n",
       "      <td>-0.940011</td>\n",
       "      <td>-0.457132</td>\n",
       "      <td>0.245931</td>\n",
       "      <td>-0.056284</td>\n",
       "      <td>-0.205702</td>\n",
       "      <td>1</td>\n",
       "    </tr>\n",
       "    <tr>\n",
       "      <th>1318270</th>\n",
       "      <td>0.342593</td>\n",
       "      <td>-0.728188</td>\n",
       "      <td>-0.394493</td>\n",
       "      <td>0.233001</td>\n",
       "      <td>-0.112615</td>\n",
       "      <td>-0.314127</td>\n",
       "      <td>1</td>\n",
       "    </tr>\n",
       "    <tr>\n",
       "      <th>1318271</th>\n",
       "      <td>0.362884</td>\n",
       "      <td>-0.543520</td>\n",
       "      <td>-0.330440</td>\n",
       "      <td>0.146938</td>\n",
       "      <td>-0.275940</td>\n",
       "      <td>-0.185721</td>\n",
       "      <td>1</td>\n",
       "    </tr>\n",
       "  </tbody>\n",
       "</table>\n",
       "<p>1318272 rows × 7 columns</p>\n",
       "</div>"
      ],
      "text/plain": [
       "               Ax        Ay        Az        Gx        Gy        Gz  label\n",
       "0        0.496339 -0.364949  0.052588  0.083186  0.178647  0.086483      4\n",
       "1        0.520650 -0.374159  0.060585  0.116655  0.115716  0.037092      4\n",
       "2        0.518696 -0.366930  0.050172  0.096794  0.202499  0.048646      4\n",
       "3        0.508621 -0.369256  0.063099  0.108464  0.155181  0.066372      4\n",
       "4        0.522706 -0.371367  0.052237  0.125037  0.141747  0.006526      4\n",
       "...           ...       ...       ...       ...       ...       ...    ...\n",
       "1318267  0.242859 -1.119667 -0.516373  0.375564 -0.042517  0.425845      1\n",
       "1318268  0.220040 -1.042184 -0.429824  0.362793 -0.065368  0.022252      1\n",
       "1318269  0.268286 -0.940011 -0.457132  0.245931 -0.056284 -0.205702      1\n",
       "1318270  0.342593 -0.728188 -0.394493  0.233001 -0.112615 -0.314127      1\n",
       "1318271  0.362884 -0.543520 -0.330440  0.146938 -0.275940 -0.185721      1\n",
       "\n",
       "[1318272 rows x 7 columns]"
      ]
     },
     "execution_count": 204,
     "metadata": {},
     "output_type": "execute_result"
    }
   ],
   "source": [
    "scaler = StandardScaler()\n",
    "X_ = scaler.fit_transform(X_)\n",
    "\n",
    "scaled_X_ = pd.DataFrame(data = X_, columns = ['Ax', 'Ay', 'Az', 'Gx', 'Gy', 'Gz'])\n",
    "scaled_X_['label'] = y_.values\n",
    "\n",
    "scaled_X_"
   ]
  },
  {
   "cell_type": "code",
   "execution_count": 205,
   "id": "9fab9b26",
   "metadata": {},
   "outputs": [],
   "source": [
    "# Fs_ = 20\n",
    "frame_size_ = 128 # 40\n",
    "hop_size_ = 64 # 20"
   ]
  },
  {
   "cell_type": "code",
   "execution_count": 206,
   "id": "36af0d6b",
   "metadata": {},
   "outputs": [],
   "source": [
    "def get_frames(df, frame_size, hop_size):\n",
    "\n",
    "    N_FEATURES = 6\n",
    "\n",
    "    frames = []\n",
    "    labels = []\n",
    "    for i in range(0, len(df) - frame_size, hop_size):\n",
    "        Ax = df['Ax'].values[i: i + frame_size]\n",
    "        Ay = df['Ay'].values[i: i + frame_size]\n",
    "        Az = df['Az'].values[i: i + frame_size]\n",
    "        Gx = df['Gx'].values[i: i + frame_size]\n",
    "        Gy = df['Gy'].values[i: i + frame_size]\n",
    "        Gz = df['Gz'].values[i: i + frame_size]\n",
    "        \n",
    "        # Retrieve the most often used label in this segment\n",
    "        label = stats.mode(df['label'][i: i + frame_size])[0][0]\n",
    "        frames.append([Ax, Ay, Az, Gx, Gy, Gz])\n",
    "        labels.append(label)\n",
    "\n",
    "    # Bring the segments into a better shape\n",
    "    frames = np.asarray(frames).reshape(-1, frame_size, N_FEATURES)\n",
    "    labels = np.asarray(labels)\n",
    "\n",
    "    return frames, labels"
   ]
  },
  {
   "cell_type": "code",
   "execution_count": 207,
   "id": "a75448c8",
   "metadata": {},
   "outputs": [],
   "source": [
    "X_, y_ = get_frames(scaled_X_, frame_size_, hop_size_)"
   ]
  },
  {
   "cell_type": "code",
   "execution_count": 208,
   "id": "40ef3185",
   "metadata": {},
   "outputs": [
    {
     "data": {
      "text/plain": [
       "((20596, 128, 6), (20596,))"
      ]
     },
     "execution_count": 208,
     "metadata": {},
     "output_type": "execute_result"
    }
   ],
   "source": [
    "X_.shape, y_.shape"
   ]
  },
  {
   "cell_type": "code",
   "execution_count": 209,
   "id": "dd2e5e2d",
   "metadata": {},
   "outputs": [],
   "source": [
    "X_train_, X_test_, y_train_, y_test_ = train_test_split(X_, y_, test_size = 0.3, random_state = 0, stratify = y_)"
   ]
  },
  {
   "cell_type": "code",
   "execution_count": 210,
   "id": "e3aa245f",
   "metadata": {},
   "outputs": [
    {
     "data": {
      "text/plain": [
       "((14417, 128, 6), (6179, 128, 6))"
      ]
     },
     "execution_count": 210,
     "metadata": {},
     "output_type": "execute_result"
    }
   ],
   "source": [
    "X_train_.shape, X_test_.shape"
   ]
  },
  {
   "cell_type": "code",
   "execution_count": 211,
   "id": "c74b793a",
   "metadata": {},
   "outputs": [],
   "source": [
    "X_train_ = X_train_.reshape(14417, 128, 6, 1)\n",
    "X_test_ = X_test_.reshape(6179, 128, 6, 1)"
   ]
  },
  {
   "cell_type": "code",
   "execution_count": null,
   "id": "547c545e",
   "metadata": {},
   "outputs": [],
   "source": []
  },
  {
   "cell_type": "code",
   "execution_count": 212,
   "id": "2c1b93ea",
   "metadata": {},
   "outputs": [
    {
     "data": {
      "text/plain": [
       "6179"
      ]
     },
     "execution_count": 212,
     "metadata": {},
     "output_type": "execute_result"
    }
   ],
   "source": [
    "y_test_.size"
   ]
  },
  {
   "cell_type": "code",
   "execution_count": 213,
   "id": "70406e53",
   "metadata": {},
   "outputs": [
    {
     "data": {
      "text/plain": [
       "array([2, 2, 4, ..., 3, 3, 5], dtype=int64)"
      ]
     },
     "execution_count": 213,
     "metadata": {},
     "output_type": "execute_result"
    }
   ],
   "source": [
    "y_test_"
   ]
  },
  {
   "cell_type": "code",
   "execution_count": 214,
   "id": "26e7f554",
   "metadata": {},
   "outputs": [
    {
     "data": {
      "text/plain": [
       "array([2, 2, 4, ..., 3, 3, 5], dtype=int64)"
      ]
     },
     "execution_count": 214,
     "metadata": {},
     "output_type": "execute_result"
    }
   ],
   "source": [
    "y_test_"
   ]
  },
  {
   "cell_type": "code",
   "execution_count": 254,
   "id": "b9b14f1c",
   "metadata": {},
   "outputs": [
    {
     "data": {
      "text/plain": [
       "{0: 17.00922479365593,\n",
       " 1: 15.35847224469979,\n",
       " 2: 13.270755785725846,\n",
       " 3: 17.55947564330798,\n",
       " 4: 18.22301343259427,\n",
       " 5: 18.579058100016184}"
      ]
     },
     "execution_count": 254,
     "metadata": {},
     "output_type": "execute_result"
    }
   ],
   "source": [
    "test_unique, test_counts = np.unique(y_test_, return_counts=True)\n",
    "testData_countValues = dict(zip(test_unique, 100* test_counts/y_test_.size))\n",
    "testData_countValues"
   ]
  },
  {
   "cell_type": "code",
   "execution_count": 242,
   "id": "212283e7",
   "metadata": {},
   "outputs": [
    {
     "data": {
      "text/plain": [
       "{0: 17.01463549975723,\n",
       " 1: 15.356870361378927,\n",
       " 2: 13.28292987445377,\n",
       " 3: 17.548727197059026,\n",
       " 4: 18.214607754733994,\n",
       " 5: 18.58222931261705}"
      ]
     },
     "execution_count": 242,
     "metadata": {},
     "output_type": "execute_result"
    }
   ],
   "source": [
    "train_unique, train_counts = np.unique(y_train_, return_counts=True)\n",
    "trainData_countValues = dict(zip(train_unique, 100 * train_counts/y_train_.size))\n",
    "trainData_countValues"
   ]
  },
  {
   "cell_type": "code",
   "execution_count": 243,
   "id": "dcda9707",
   "metadata": {},
   "outputs": [
    {
     "data": {
      "text/plain": [
       "dict_values([17.01463549975723, 15.356870361378927, 13.28292987445377, 17.548727197059026, 18.214607754733994, 18.58222931261705])"
      ]
     },
     "execution_count": 243,
     "metadata": {},
     "output_type": "execute_result"
    }
   ],
   "source": [
    "trainData_countValues.values()"
   ]
  },
  {
   "cell_type": "code",
   "execution_count": null,
   "id": "251e4e7c",
   "metadata": {},
   "outputs": [],
   "source": []
  },
  {
   "cell_type": "code",
   "execution_count": 234,
   "id": "d8712011",
   "metadata": {},
   "outputs": [],
   "source": [
    "import matplotlib.pyplot as plt\n",
    "import seaborn as sns"
   ]
  },
  {
   "cell_type": "code",
   "execution_count": 252,
   "id": "6f1a05dc",
   "metadata": {},
   "outputs": [
    {
     "data": {
      "image/png": "[encoded data removed]",
      "text/plain": [
       "<Figure size 432x288 with 1 Axes>"
      ]
     },
     "metadata": {},
     "output_type": "display_data"
    }
   ],
   "source": [
    "data = trainData_countValues.values()\n",
    "labels = ['WALKING', 'WALKING_UPSTAIRS', 'WALKING_DOWNSTAIRS', 'SITTING', 'STANDING', 'LAYING']\n",
    "\n",
    "#define Seaborn color palette to use\n",
    "colors = sns.color_palette('bwr_r')[0:6]\n",
    "\n",
    "#create pie chart\n",
    "plt.pie(data, labels = labels, colors = colors, autopct='%.0f%%')\n",
    "plt.show()"
   ]
  },
  {
   "cell_type": "code",
   "execution_count": null,
   "id": "bd74d06a",
   "metadata": {},
   "outputs": [],
   "source": []
  },
  {
   "cell_type": "code",
   "execution_count": 255,
   "id": "32c4db3b",
   "metadata": {},
   "outputs": [
    {
     "data": {
      "image/png": "[encoded data removed]",
      "text/plain": [
       "<Figure size 432x288 with 1 Axes>"
      ]
     },
     "metadata": {},
     "output_type": "display_data"
    }
   ],
   "source": [
    "data = testData_countValues.values()\n",
    "labels = ['WALKING', 'WALKING_UPSTAIRS', 'WALKING_DOWNSTAIRS', 'SITTING', 'STANDING', 'LAYING']\n",
    "\n",
    "#define Seaborn color palette to use\n",
    "colors = sns.color_palette('bwr_r')[0:6]\n",
    "\n",
    "#create pie chart\n",
    "plt.pie(data, labels = labels, colors = colors, autopct='%.0f%%')\n",
    "plt.show()"
   ]
  },
  {
   "cell_type": "code",
   "execution_count": null,
   "id": "864288f5",
   "metadata": {},
   "outputs": [],
   "source": []
  },
  {
   "cell_type": "code",
   "execution_count": null,
   "id": "15e350ad",
   "metadata": {},
   "outputs": [],
   "source": []
  },
  {
   "cell_type": "code",
   "execution_count": null,
   "id": "8360b5ad",
   "metadata": {},
   "outputs": [],
   "source": []
  },
  {
   "cell_type": "code",
   "execution_count": null,
   "id": "549b773a",
   "metadata": {},
   "outputs": [],
   "source": []
  },
  {
   "cell_type": "code",
   "execution_count": null,
   "id": "9710af6c",
   "metadata": {},
   "outputs": [],
   "source": []
  },
  {
   "cell_type": "code",
   "execution_count": null,
   "id": "dddbf3da",
   "metadata": {},
   "outputs": [],
   "source": []
  },
  {
   "cell_type": "code",
   "execution_count": null,
   "id": "7f600358",
   "metadata": {},
   "outputs": [],
   "source": []
  },
  {
   "cell_type": "code",
   "execution_count": null,
   "id": "87f881e6",
   "metadata": {},
   "outputs": [],
   "source": []
  },
  {
   "cell_type": "code",
   "execution_count": null,
   "id": "fc694d5f",
   "metadata": {},
   "outputs": [],
   "source": []
  },
  {
   "cell_type": "code",
   "execution_count": null,
   "id": "1c2b4ef3",
   "metadata": {},
   "outputs": [],
   "source": []
  },
  {
   "cell_type": "code",
   "execution_count": null,
   "id": "8cf86619",
   "metadata": {},
   "outputs": [],
   "source": []
  },
  {
   "cell_type": "code",
   "execution_count": null,
   "id": "6674770e",
   "metadata": {},
   "outputs": [],
   "source": []
  },
  {
   "cell_type": "code",
   "execution_count": null,
   "id": "d87c458f",
   "metadata": {},
   "outputs": [],
   "source": []
  },
  {
   "cell_type": "code",
   "execution_count": null,
   "id": "2c37a0cd",
   "metadata": {},
   "outputs": [],
   "source": []
  },
  {
   "cell_type": "code",
   "execution_count": 222,
   "id": "a9406f21",
   "metadata": {},
   "outputs": [],
   "source": [
    "model_ = Sequential()\n",
    "model_.add(Conv2D(16, (2, 2), activation = 'relu', input_shape = X_train_[0].shape))\n",
    "model_.add(Dropout(0.1))\n",
    "\n",
    "model_.add(Conv2D(32, (2, 2), activation='relu'))\n",
    "model_.add(Dropout(0.2))\n",
    "\n",
    "model_.add(Flatten())\n",
    "\n",
    "model_.add(Dense(64, activation = 'relu'))\n",
    "model_.add(Dropout(0.5))\n",
    "\n",
    "model_.add(Dense(6, activation='softmax'))"
   ]
  },
  {
   "cell_type": "code",
   "execution_count": 223,
   "id": "299407be",
   "metadata": {},
   "outputs": [],
   "source": [
    "model_.compile(optimizer=Adam(learning_rate = 0.0001), loss = 'sparse_categorical_crossentropy', metrics = ['accuracy'])"
   ]
  },
  {
   "cell_type": "code",
   "execution_count": 224,
   "id": "5ff77b38",
   "metadata": {},
   "outputs": [
    {
     "name": "stdout",
     "output_type": "stream",
     "text": [
      "Epoch 1/10\n",
      "451/451 [==============================] - 5s 11ms/step - loss: 0.6336 - accuracy: 0.7481 - val_loss: 0.3502 - val_accuracy: 0.8670\n",
      "Epoch 2/10\n",
      "451/451 [==============================] - 5s 10ms/step - loss: 0.3800 - accuracy: 0.8539 - val_loss: 0.2635 - val_accuracy: 0.9040\n",
      "Epoch 3/10\n",
      "451/451 [==============================] - 5s 10ms/step - loss: 0.3163 - accuracy: 0.8807 - val_loss: 0.2304 - val_accuracy: 0.9116\n",
      "Epoch 4/10\n",
      "451/451 [==============================] - 5s 10ms/step - loss: 0.2806 - accuracy: 0.8942 - val_loss: 0.2106 - val_accuracy: 0.9197\n",
      "Epoch 5/10\n",
      "451/451 [==============================] - 5s 11ms/step - loss: 0.2561 - accuracy: 0.9027 - val_loss: 0.1908 - val_accuracy: 0.9286\n",
      "Epoch 6/10\n",
      "451/451 [==============================] - 5s 11ms/step - loss: 0.2312 - accuracy: 0.9140 - val_loss: 0.1835 - val_accuracy: 0.9277\n",
      "Epoch 7/10\n",
      "451/451 [==============================] - 6s 13ms/step - loss: 0.2175 - accuracy: 0.9175 - val_loss: 0.1745 - val_accuracy: 0.9353\n",
      "Epoch 8/10\n",
      "451/451 [==============================] - 9s 19ms/step - loss: 0.2031 - accuracy: 0.9234 - val_loss: 0.1650 - val_accuracy: 0.9349\n",
      "Epoch 9/10\n",
      "451/451 [==============================] - 7s 15ms/step - loss: 0.1929 - accuracy: 0.9270 - val_loss: 0.1552 - val_accuracy: 0.9391\n",
      "Epoch 10/10\n",
      "451/451 [==============================] - 7s 15ms/step - loss: 0.1835 - accuracy: 0.9297 - val_loss: 0.1496 - val_accuracy: 0.9440\n"
     ]
    }
   ],
   "source": [
    "history = model_.fit(X_train_, y_train_, epochs = 10, validation_data= (X_test_, y_test_), verbose=1)"
   ]
  },
  {
   "cell_type": "code",
   "execution_count": 216,
   "id": "570bb7c7",
   "metadata": {},
   "outputs": [],
   "source": [
    "from keras import models    \n",
    "model = models.load_model('UCIHAR_MODEL_97PERCNT.h5')"
   ]
  },
  {
   "cell_type": "code",
   "execution_count": 217,
   "id": "0d4d9982",
   "metadata": {},
   "outputs": [
    {
     "name": "stderr",
     "output_type": "stream",
     "text": [
      "F:\\anaconda\\envs\\tf1\\lib\\site-packages\\keras\\engine\\sequential.py:450: UserWarning: `model.predict_classes()` is deprecated and will be removed after 2021-01-01. Please use instead:* `np.argmax(model.predict(x), axis=-1)`,   if your model does multi-class classification   (e.g. if it uses a `softmax` last-layer activation).* `(model.predict(x) > 0.5).astype(\"int32\")`,   if your model does binary classification   (e.g. if it uses a `sigmoid` last-layer activation).\n",
      "  warnings.warn('`model.predict_classes()` is deprecated and '\n"
     ]
    }
   ],
   "source": [
    "y_pred = model.predict_classes(X_test_)"
   ]
  },
  {
   "cell_type": "code",
   "execution_count": 218,
   "id": "cd4e8fdf",
   "metadata": {},
   "outputs": [],
   "source": [
    "from sklearn import metrics"
   ]
  },
  {
   "cell_type": "code",
   "execution_count": 219,
   "id": "d1f2028d",
   "metadata": {},
   "outputs": [],
   "source": [
    "from sklearn import metrics"
   ]
  },
  {
   "cell_type": "code",
   "execution_count": 220,
   "id": "c1b00263",
   "metadata": {},
   "outputs": [
    {
     "name": "stdout",
     "output_type": "stream",
     "text": [
      "[[1046    1    4    0    0    0]\n",
      " [   2  938    8    0    1    0]\n",
      " [   9    5  806    0    0    0]\n",
      " [   0    2    0 1025   58    0]\n",
      " [   0    0    0   61 1065    0]\n",
      " [   0    0    0    0    0 1148]]\n"
     ]
    }
   ],
   "source": [
    "print(metrics.confusion_matrix(y_test_, y_pred))"
   ]
  },
  {
   "cell_type": "code",
   "execution_count": 221,
   "id": "0eabf235",
   "metadata": {},
   "outputs": [
    {
     "name": "stdout",
     "output_type": "stream",
     "text": [
      "              precision    recall  f1-score   support\n",
      "\n",
      "           0   0.989593  0.995243  0.992410      1051\n",
      "           1   0.991543  0.988409  0.989974       949\n",
      "           2   0.985330  0.982927  0.984127       820\n",
      "           3   0.943831  0.944700  0.944265      1085\n",
      "           4   0.947509  0.945826  0.946667      1126\n",
      "           5   1.000000  1.000000  1.000000      1148\n",
      "\n",
      "    accuracy                       0.975562      6179\n",
      "   macro avg   0.976301  0.976184  0.976240      6179\n",
      "weighted avg   0.975556  0.975562  0.975557      6179\n",
      "\n"
     ]
    }
   ],
   "source": [
    "print(metrics.classification_report(y_test_, y_pred, digits=6))"
   ]
  },
  {
   "cell_type": "code",
   "execution_count": null,
   "id": "593dcf50",
   "metadata": {},
   "outputs": [],
   "source": []
  },
  {
   "cell_type": "code",
   "execution_count": null,
   "id": "b0415d23",
   "metadata": {},
   "outputs": [],
   "source": []
  },
  {
   "cell_type": "code",
   "execution_count": 225,
   "id": "e29dc166",
   "metadata": {},
   "outputs": [
    {
     "name": "stderr",
     "output_type": "stream",
     "text": [
      "F:\\anaconda\\envs\\tf1\\lib\\site-packages\\tensorflow\\python\\keras\\engine\\sequential.py:455: UserWarning: `model.predict_classes()` is deprecated and will be removed after 2021-01-01. Please use instead:* `np.argmax(model.predict(x), axis=-1)`,   if your model does multi-class classification   (e.g. if it uses a `softmax` last-layer activation).* `(model.predict(x) > 0.5).astype(\"int32\")`,   if your model does binary classification   (e.g. if it uses a `sigmoid` last-layer activation).\n",
      "  warnings.warn('`model.predict_classes()` is deprecated and '\n"
     ]
    }
   ],
   "source": [
    "y_pred_ = model_.predict_classes(X_test_)"
   ]
  },
  {
   "cell_type": "code",
   "execution_count": 226,
   "id": "c8564e8e",
   "metadata": {},
   "outputs": [
    {
     "name": "stdout",
     "output_type": "stream",
     "text": [
      "[[1028    7   16    0    0    0]\n",
      " [   7  921   18    0    3    0]\n",
      " [  63   26  730    0    1    0]\n",
      " [   0    2    0 1002   81    0]\n",
      " [   0    0    0  122 1004    0]\n",
      " [   0    0    0    0    0 1148]]\n"
     ]
    }
   ],
   "source": [
    "print(metrics.confusion_matrix(y_test_, y_pred_))"
   ]
  },
  {
   "cell_type": "code",
   "execution_count": 228,
   "id": "0b7b803d",
   "metadata": {},
   "outputs": [
    {
     "name": "stdout",
     "output_type": "stream",
     "text": [
      "              precision    recall  f1-score   support\n",
      "\n",
      "           0   0.936248  0.978116  0.956724      1051\n",
      "           1   0.963389  0.970495  0.966929       949\n",
      "           2   0.955497  0.890244  0.921717       820\n",
      "           3   0.891459  0.923502  0.907198      1085\n",
      "           4   0.921947  0.891652  0.906546      1126\n",
      "           5   1.000000  1.000000  1.000000      1148\n",
      "\n",
      "    accuracy                       0.944004      6179\n",
      "   macro avg   0.944757  0.942335  0.943186      6179\n",
      "weighted avg   0.944345  0.944004  0.943846      6179\n",
      "\n"
     ]
    }
   ],
   "source": [
    "print(metrics.classification_report(y_test_, y_pred_, digits=6))"
   ]
  },
  {
   "cell_type": "code",
   "execution_count": 229,
   "id": "eb3b7464",
   "metadata": {},
   "outputs": [
    {
     "name": "stdout",
     "output_type": "stream",
     "text": [
      "Model Saved!\n"
     ]
    }
   ],
   "source": [
    "# save model\n",
    "model_.save('UCIHAR_MODEL_94PERCNT.h5')\n",
    "print('Model Saved!')"
   ]
  },
  {
   "cell_type": "code",
   "execution_count": 230,
   "id": "99fe416a",
   "metadata": {},
   "outputs": [],
   "source": [
    "model = models.load_model('UCIHAR_MODEL_94PERCNT.h5')"
   ]
  },
  {
   "cell_type": "code",
   "execution_count": 231,
   "id": "c5069a4e",
   "metadata": {},
   "outputs": [
    {
     "name": "stderr",
     "output_type": "stream",
     "text": [
      "F:\\anaconda\\envs\\tf1\\lib\\site-packages\\keras\\engine\\sequential.py:450: UserWarning: `model.predict_classes()` is deprecated and will be removed after 2021-01-01. Please use instead:* `np.argmax(model.predict(x), axis=-1)`,   if your model does multi-class classification   (e.g. if it uses a `softmax` last-layer activation).* `(model.predict(x) > 0.5).astype(\"int32\")`,   if your model does binary classification   (e.g. if it uses a `sigmoid` last-layer activation).\n",
      "  warnings.warn('`model.predict_classes()` is deprecated and '\n"
     ]
    }
   ],
   "source": [
    "y_pred = model.predict_classes(X_test_)"
   ]
  },
  {
   "cell_type": "code",
   "execution_count": 232,
   "id": "d8ce89c2",
   "metadata": {},
   "outputs": [
    {
     "name": "stdout",
     "output_type": "stream",
     "text": [
      "[[1028    7   16    0    0    0]\n",
      " [   7  921   18    0    3    0]\n",
      " [  63   26  730    0    1    0]\n",
      " [   0    2    0 1002   81    0]\n",
      " [   0    0    0  122 1004    0]\n",
      " [   0    0    0    0    0 1148]]\n"
     ]
    }
   ],
   "source": [
    "print(metrics.confusion_matrix(y_test_, y_pred_))"
   ]
  },
  {
   "cell_type": "code",
   "execution_count": 233,
   "id": "43c65973",
   "metadata": {},
   "outputs": [
    {
     "name": "stdout",
     "output_type": "stream",
     "text": [
      "              precision    recall  f1-score   support\n",
      "\n",
      "           0   0.936248  0.978116  0.956724      1051\n",
      "           1   0.963389  0.970495  0.966929       949\n",
      "           2   0.955497  0.890244  0.921717       820\n",
      "           3   0.891459  0.923502  0.907198      1085\n",
      "           4   0.921947  0.891652  0.906546      1126\n",
      "           5   1.000000  1.000000  1.000000      1148\n",
      "\n",
      "    accuracy                       0.944004      6179\n",
      "   macro avg   0.944757  0.942335  0.943186      6179\n",
      "weighted avg   0.944345  0.944004  0.943846      6179\n",
      "\n"
     ]
    }
   ],
   "source": [
    "print(metrics.classification_report(y_test_, y_pred_, digits=6))"
   ]
  },
  {
   "cell_type": "code",
   "execution_count": null,
   "id": "216ef4fe",
   "metadata": {},
   "outputs": [],
   "source": []
  },
  {
   "cell_type": "code",
   "execution_count": null,
   "id": "841e3e70",
   "metadata": {},
   "outputs": [],
   "source": []
  },
  {
   "cell_type": "code",
   "execution_count": 256,
   "id": "2e55f4b0",
   "metadata": {},
   "outputs": [],
   "source": [
    "def plot_learningCurve(history, epochs):\n",
    "  # Plot training & validation accuracy values\n",
    "  epoch_range = range(1, epochs+1)\n",
    "  plt.plot(epoch_range, history.history['accuracy'])\n",
    "  plt.plot(epoch_range, history.history['val_accuracy'])\n",
    "  plt.title('Model accuracy')\n",
    "  plt.ylabel('Accuracy')\n",
    "  plt.xlabel('Epoch')\n",
    "  plt.legend(['Train', 'Val'], loc='upper left')\n",
    "  plt.show()\n",
    "\n",
    "  # Plot training & validation loss values\n",
    "  plt.plot(epoch_range, history.history['loss'])\n",
    "  plt.plot(epoch_range, history.history['val_loss'])\n",
    "  plt.title('Model loss')\n",
    "  plt.ylabel('Loss')\n",
    "  plt.xlabel('Epoch')\n",
    "  plt.legend(['Train', 'Val'], loc='upper left')\n",
    "  plt.show()"
   ]
  },
  {
   "cell_type": "code",
   "execution_count": 258,
   "id": "54af2b27",
   "metadata": {},
   "outputs": [
    {
     "data": {
      "image/png": "[encoded data removed]",
      "text/plain": [
       "<Figure size 432x288 with 1 Axes>"
      ]
     },
     "metadata": {
      "needs_background": "light"
     },
     "output_type": "display_data"
    },
    {
     "data": {
      "image/png": "[encoded data removed]",
      "text/plain": [
       "<Figure size 432x288 with 1 Axes>"
      ]
     },
     "metadata": {
      "needs_background": "light"
     },
     "output_type": "display_data"
    }
   ],
   "source": [
    "plot_learningCurve(history, 10)"
   ]
  },
  {
   "cell_type": "code",
   "execution_count": null,
   "id": "f6efab9c",
   "metadata": {},
   "outputs": [],
   "source": []
  }
 ],
 "metadata": {
  "kernelspec": {
   "display_name": "Python 3 (ipykernel)",
   "language": "python",
   "name": "python3"
  },
  "language_info": {
   "codemirror_mode": {
    "name": "ipython",
    "version": 3
   },
   "file_extension": ".py",
   "mimetype": "text/x-python",
   "name": "python",
   "nbconvert_exporter": "python",
   "pygments_lexer": "ipython3",
   "version": "3.7.11"
  }
 },
 "nbformat": 4,
 "nbformat_minor": 5
}
